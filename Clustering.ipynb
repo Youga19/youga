{
  "nbformat": 4,
  "nbformat_minor": 0,
  "metadata": {
    "colab": {
      "provenance": [],
      "collapsed_sections": [],
      "authorship_tag": "ABX9TyM8oFGMo1FxYWL4qWVQDQ2b",
      "include_colab_link": true
    },
    "kernelspec": {
      "name": "python3",
      "display_name": "Python 3"
    },
    "language_info": {
      "name": "python"
    }
  },
  "cells": [
    {
      "cell_type": "markdown",
      "metadata": {
        "id": "view-in-github",
        "colab_type": "text"
      },
      "source": [
        "<a href=\"https://colab.research.google.com/github/Youga19/youga/blob/main/Clustering.ipynb\" target=\"_parent\"><img src=\"https://colab.research.google.com/assets/colab-badge.svg\" alt=\"Open In Colab\"/></a>"
      ]
    },
    {
      "cell_type": "code",
      "execution_count": null,
      "metadata": {
        "colab": {
          "base_uri": "https://localhost:8080/"
        },
        "id": "5dIgQhPrW1ju",
        "outputId": "11a218a8-3241-4766-8084-38075bd57753"
      },
      "outputs": [
        {
          "output_type": "stream",
          "name": "stdout",
          "text": [
            "Looking in indexes: https://pypi.org/simple, https://us-python.pkg.dev/colab-wheels/public/simple/\n",
            "Collecting snscrape\n",
            "  Downloading snscrape-0.3.4-py3-none-any.whl (35 kB)\n",
            "Requirement already satisfied: beautifulsoup4 in /usr/local/lib/python3.7/dist-packages (from snscrape) (4.6.3)\n",
            "Requirement already satisfied: requests[socks] in /usr/local/lib/python3.7/dist-packages (from snscrape) (2.23.0)\n",
            "Requirement already satisfied: lxml in /usr/local/lib/python3.7/dist-packages (from snscrape) (4.9.1)\n",
            "Requirement already satisfied: urllib3!=1.25.0,!=1.25.1,<1.26,>=1.21.1 in /usr/local/lib/python3.7/dist-packages (from requests[socks]->snscrape) (1.24.3)\n",
            "Requirement already satisfied: chardet<4,>=3.0.2 in /usr/local/lib/python3.7/dist-packages (from requests[socks]->snscrape) (3.0.4)\n",
            "Requirement already satisfied: certifi>=2017.4.17 in /usr/local/lib/python3.7/dist-packages (from requests[socks]->snscrape) (2022.9.24)\n",
            "Requirement already satisfied: idna<3,>=2.5 in /usr/local/lib/python3.7/dist-packages (from requests[socks]->snscrape) (2.10)\n",
            "Requirement already satisfied: PySocks!=1.5.7,>=1.5.6 in /usr/local/lib/python3.7/dist-packages (from requests[socks]->snscrape) (1.7.1)\n",
            "Installing collected packages: snscrape\n",
            "Successfully installed snscrape-0.3.4\n"
          ]
        }
      ],
      "source": [
        "!pip3 install snscrape"
      ]
    },
    {
      "cell_type": "code",
      "source": [
        "!pip install langdetect"
      ],
      "metadata": {
        "colab": {
          "base_uri": "https://localhost:8080/"
        },
        "id": "Tzb3qC71XSsb",
        "outputId": "741382f6-2901-43e6-d977-e4ffce1c3a9a"
      },
      "execution_count": null,
      "outputs": [
        {
          "output_type": "stream",
          "name": "stdout",
          "text": [
            "Looking in indexes: https://pypi.org/simple, https://us-python.pkg.dev/colab-wheels/public/simple/\n",
            "Collecting langdetect\n",
            "  Downloading langdetect-1.0.9.tar.gz (981 kB)\n",
            "\u001b[K     |████████████████████████████████| 981 kB 2.3 MB/s \n",
            "\u001b[?25hRequirement already satisfied: six in /usr/local/lib/python3.7/dist-packages (from langdetect) (1.15.0)\n",
            "Building wheels for collected packages: langdetect\n",
            "  Building wheel for langdetect (setup.py) ... \u001b[?25l\u001b[?25hdone\n",
            "  Created wheel for langdetect: filename=langdetect-1.0.9-py3-none-any.whl size=993242 sha256=a7556a373a27e43b6c890c8c35804e5c65fe9751220ac505c59eae2f9e4934cc\n",
            "  Stored in directory: /root/.cache/pip/wheels/c5/96/8a/f90c59ed25d75e50a8c10a1b1c2d4c402e4dacfa87f3aff36a\n",
            "Successfully built langdetect\n",
            "Installing collected packages: langdetect\n",
            "Successfully installed langdetect-1.0.9\n"
          ]
        }
      ]
    },
    {
      "cell_type": "code",
      "source": [
        "import snscrape.modules.twitter as sntwitter\n",
        "import json\n",
        "from langdetect import detect"
      ],
      "metadata": {
        "id": "BJ32-GsVXaId"
      },
      "execution_count": null,
      "outputs": []
    },
    {
      "cell_type": "code",
      "source": [
        "keywords=['Jokowi']\n",
        "start=\"2022–08–01\"\n",
        "end =\"2022–10–15\"\n",
        "max_num=100\n",
        "fname='tweet.json' \n",
        "languages=['id','en']"
      ],
      "metadata": {
        "id": "EwF3uYfFXmkn"
      },
      "execution_count": null,
      "outputs": []
    },
    {
      "cell_type": "code",
      "source": [
        "import pandas as pd\n",
        "datatw=[]"
      ],
      "metadata": {
        "id": "S3B8tEfIYCJD"
      },
      "execution_count": null,
      "outputs": []
    },
    {
      "cell_type": "code",
      "source": [
        "for keyword in keywords:\n",
        "   \n",
        "    for i, tweet in enumerate (sntwitter.TwitterSearchScraper(f'{keyword} ').get_items()):\n",
        "        \n",
        "        try:\n",
        "            lan=detect(tweet.content)\n",
        "        except:\n",
        "            lan='error'\n",
        "        if i == max_num:\n",
        "            break\n",
        "        if lan in languages:\n",
        "            data = {'id': tweet.id, 'username':tweet.username, 'date': tweet.date, 'text': tweet.content,'url':tweet.url}\n",
        "            datatw.append(tweet.content)\n",
        "            with open(fname, 'a+', encoding='utf-8') as f:\n",
        "                line = json.dumps(data, ensure_ascii=False,default=str)\n",
        "                print(line)\n",
        "                f.write(line)\n",
        "                f.write('\\n')"
      ],
      "metadata": {
        "colab": {
          "base_uri": "https://localhost:8080/"
        },
        "id": "mtzgFNexYLsC",
        "outputId": "0ac9e312-5d40-4bcb-f86c-fab2c50df9fa"
      },
      "execution_count": null,
      "outputs": [
        {
          "output_type": "stream",
          "name": "stdout",
          "text": [
            "{\"id\": 1582369766055952384, \"username\": \"wondo_shati\", \"date\": \"2022-10-18 13:55:25+00:00\", \"text\": \"@HusinShihab @jokowi @Syarman59 @ChusnulCh__ @Madebylaluna @GunRomli @sjahtie @pn7l7h @Uki23 @pengarang_sajak @Aryprasetyo85 @ex_AnakLolina Namanya juga orang sarap\", \"url\": \"https://twitter.com/wondo_shati/status/1582369766055952384\"}\n",
            "{\"id\": 1582369647042887681, \"username\": \"BennySultanHas1\", \"date\": \"2022-10-18 13:54:57+00:00\", \"text\": \"@OposisiCerdas Dalam Politik Tidak ada jaminan 100% .... Untuk menjalankan janji2... Contohnya baik Pak Jokowi &amp; pak Prabowo...????\", \"url\": \"https://twitter.com/BennySultanHas1/status/1582369647042887681\"}\n",
            "{\"id\": 1582369616960974850, \"username\": \"Banyu2703\", \"date\": \"2022-10-18 13:54:50+00:00\", \"text\": \"@hyang_wisnu @kemkominfo @jokowi @PlateJohnny @Aryprasetyo85 @03__nakula @DS_yantie @FirzaHusainID @miicies @farrel27 Kebutuhan akan talenta digital di Indonesia masih tinggi, dan dukungan berbagai pihak sangatlah penting.\\n@kemkominfo @PlateJohnny\", \"url\": \"https://twitter.com/Banyu2703/status/1582369616960974850\"}\n",
            "{\"id\": 1582369609746763776, \"username\": \"YudiIstiono\", \"date\": \"2022-10-18 13:54:48+00:00\", \"text\": \"@DeepBlackCoffee @Syarman59 @Humaira922 @jokowi Nanti alasannya kan HIR buatan kapir Bang wkwkwkwkwkwkwk\", \"url\": \"https://twitter.com/YudiIstiono/status/1582369609746763776\"}\n",
            "{\"id\": 1582369547491110912, \"username\": \"KepaArgawinata\", \"date\": \"2022-10-18 13:54:33+00:00\", \"text\": \"@HusinShihab @jokowi @Syarman59 @ChusnulCh__ @Madebylaluna @GunRomli @sjahtie @pn7l7h @Uki23 @pengarang_sajak @Aryprasetyo85 @ex_AnakLolina Egi Sujana itu Pembenci Jokowi sejak Pilpres 2014, dia dendam &amp; sakit hati sama Jokowi karna kelompoknya kalah Pilpres 2014 &amp; 2019. \\nDari 2014 dia sering teriak2 People Power dan melakukan segala cara untuk melengserkan Jokowi. Di 2019 dia ditangkap dan jadi tersangka kasus Makar\", \"url\": \"https://twitter.com/KepaArgawinata/status/1582369547491110912\"}\n",
            "{\"id\": 1582369543489744896, \"username\": \"Litothesook\", \"date\": \"2022-10-18 13:54:32+00:00\", \"text\": \"@Ibas @angelichris @detikcom @BPOM_RI @YLKI_ID @KemenkesRI @jokowi gak ada yg bilang 100% mas, makanya itu saya jelasin kl ada perusahaan nakal yang pas izin registrasinya aman tp ternyata saat kedepannya jadi engga aman, itu bpom bakalan inspeksi mendadak ke beberapa perusahaan yang terindikasi seperti itu\", \"url\": \"https://twitter.com/Litothesook/status/1582369543489744896\"}\n",
            "{\"id\": 1582369523122196480, \"username\": \"puliadong\", \"date\": \"2022-10-18 13:54:27+00:00\", \"text\": \"@jokowi Jangan hilangkan tkp\", \"url\": \"https://twitter.com/puliadong/status/1582369523122196480\"}\n",
            "{\"id\": 1582369521582559232, \"username\": \"edo_macho\", \"date\": \"2022-10-18 13:54:27+00:00\", \"text\": \"@HusinShihab @sarpan2000 @jokowi @Syarman59 @ChusnulCh__ @Madebylaluna @GunRomli @sjahtie @pn7l7h @Uki23 @pengarang_sajak @Aryprasetyo85 @ex_AnakLolina Org kok hdpnya bikin ssh org lain segitu bencinya sama jkw dibayar brp sma bohir smpe ngotot bgtu\", \"url\": \"https://twitter.com/edo_macho/status/1582369521582559232\"}\n",
            "{\"id\": 1582369470160326657, \"username\": \"ietong_permana\", \"date\": \"2022-10-18 13:54:15+00:00\", \"text\": \"@Rahmat160131378 @jokowi Tuh kang udah langsung dijawab beberapa hari yg lalu, buruan cari loker ikut bantu renov ...\\nhttps://t.co/5EGpfVFsVT\", \"url\": \"https://twitter.com/ietong_permana/status/1582369470160326657\"}\n",
            "{\"id\": 1582369469338648576, \"username\": \"Mswahyuwahyu\", \"date\": \"2022-10-18 13:54:15+00:00\", \"text\": \"@ANDINI_MAHARAN1 Nnti klow ijasahnya palsu,,,apa jokowi bisa lengser secara hukum,,,maaf saya tanya..🙏🙏\", \"url\": \"https://twitter.com/Mswahyuwahyu/status/1582369469338648576\"}\n",
            "{\"id\": 1582369452024205312, \"username\": \"den_denai\", \"date\": \"2022-10-18 13:54:11+00:00\", \"text\": \"@Mercyboyz @adisatya @wisnutr @Paltiwest @jokowi 2024 Jan lp sujud syukur lg ya,kyk yg Ono d prank sama tv oon...😝😝😝\", \"url\": \"https://twitter.com/den_denai/status/1582369452024205312\"}\n",
            "{\"id\": 1582369444311228417, \"username\": \"hp_arel\", \"date\": \"2022-10-18 13:54:09+00:00\", \"text\": \"@FerdinandHutah5 @jokowi @NasDem Baca twuittmu di ketawaiin listi 🤣🤣🤣 https://t.co/EmXIiQo7Nq\", \"url\": \"https://twitter.com/hp_arel/status/1582369444311228417\"}\n",
            "{\"id\": 1582369433724473345, \"username\": \"xnwy11\", \"date\": \"2022-10-18 13:54:06+00:00\", \"text\": \"@cursedkidd @jokowi kmu gbole nge-tik sperti itu wil, nnti kmu diusir dari negara\", \"url\": \"https://twitter.com/xnwy11/status/1582369433724473345\"}\n",
            "{\"id\": 1582369431438888960, \"username\": \"ArmiSatria8\", \"date\": \"2022-10-18 13:54:06+00:00\", \"text\": \"@maspiyuaja Kalau anda protes, berarti pak Jokowi sdh benar .\", \"url\": \"https://twitter.com/ArmiSatria8/status/1582369431438888960\"}\n",
            "{\"id\": 1582369412866195456, \"username\": \"muhilmi666\", \"date\": \"2022-10-18 13:54:01+00:00\", \"text\": \"@AURI_okman @jokowi Dari namanya aja keliatan\", \"url\": \"https://twitter.com/muhilmi666/status/1582369412866195456\"}\n",
            "{\"id\": 1582369409644974081, \"username\": \"abadi2703\", \"date\": \"2022-10-18 13:54:00+00:00\", \"text\": \"@hyang_wisnu @kemkominfo @jokowi @PlateJohnny @Aryprasetyo85 @03__nakula @DS_yantie @FirzaHusainID @miicies @farrel27 Harus saling berkolaborasi untuk menghasilkan talenta digital handal \\n@kemkominfo @PlateJohnny\", \"url\": \"https://twitter.com/abadi2703/status/1582369409644974081\"}\n",
            "{\"id\": 1582369402871115777, \"username\": \"ssssintiaaaa94\", \"date\": \"2022-10-18 13:53:59+00:00\", \"text\": \"@panjianom102 @NegeriKolam Yang suka bukan ribuan tapi jutaan, tapi masih banyakan yang suka Jokowi sih, buktinya pilpres menang terus\", \"url\": \"https://twitter.com/ssssintiaaaa94/status/1582369402871115777\"}\n",
            "{\"id\": 1582369389298401280, \"username\": \"yo2k_poerbianto\", \"date\": \"2022-10-18 13:53:56+00:00\", \"text\": \"Slmt ultah bu Kaban @bpsdmkemendes @LuthfiyahNurla1 semoga sht walafiat &amp; sukses selalu. Aamiin.\\n#TPPJawaTimur\\n#TPPLamongan\\n#PendampingDesaInspiratif\\n@jokowi\\n@halimiskandarnu\\n@taufikmadjid71\\n@malik_haramain\\n@yusradaridesa\\n@kemendespdtt\\n@tppkemendes\\n@Iskandar__NH\\n@MasMukhlish182 https://t.co/7Ix0HTcX1w\", \"url\": \"https://twitter.com/yo2k_poerbianto/status/1582369389298401280\"}\n",
            "{\"id\": 1582369382184800256, \"username\": \"sumitra73006385\", \"date\": \"2022-10-18 13:53:54+00:00\", \"text\": \"@Nandagustiann @Syarman59 @jokowi @NasDem Harusnya..tapi kenyataaan bisa sangat berbeda..\", \"url\": \"https://twitter.com/sumitra73006385/status/1582369382184800256\"}\n",
            "{\"id\": 1582369369614880773, \"username\": \"Dika76595557\", \"date\": \"2022-10-18 13:53:51+00:00\", \"text\": \"@erickthohir @jokowi Trus nasib 133 warga negara yang kehilangan nyawa gimana? Yang udah sebabkan mereka kehilangan nyawa kapan mau diperbaiki?\", \"url\": \"https://twitter.com/Dika76595557/status/1582369369614880773\"}\n",
            "{\"id\": 1582369368024829953, \"username\": \"Retty12365018\", \"date\": \"2022-10-18 13:53:50+00:00\", \"text\": \"@KatakanKebenarn @DokterTifa Yaelaaa.. ud pernah kuliah lom siy? Lulusan th85 ktmu lg th22 pasti aja pangling! Gs us jokowi, gw aja gitu yg ga pny urusan sebanyak presiden, ktmu trus nanya.. siapa ya, lupa! Jgn meng-ada ah, norak tauk!\", \"url\": \"https://twitter.com/Retty12365018/status/1582369368024829953\"}\n",
            "{\"id\": 1582369367513104384, \"username\": \"dkygsoo\", \"date\": \"2022-10-18 13:53:50+00:00\", \"text\": \"makasi banyak @jokowi 😘\\n\\n#THANKYOUJOKOWI\\n#GOMAWOOWIOPPA\\n#ARIGATOJOKOWI https://t.co/1QDRxD0XvC\", \"url\": \"https://twitter.com/dkygsoo/status/1582369367513104384\"}\n",
            "{\"id\": 1582369360953638914, \"username\": \"Nicho_7777\", \"date\": \"2022-10-18 13:53:49+00:00\", \"text\": \"Sebenarnya Isu Ijazah Ini Sangat Mudah Di Hentikan Jika @jokowi Berani Menunjukkan Ijazah Aslinya, Sayangnya Keberanian Itu Tidak Dimiliki Sehingga Menciptakan Kegaduhan Di Ruang Publik. Sialnya Bambang Tri Selaku Penggugat Malah Di Tangkap Polisi dan Itu Menimbulkan Kecurigaan. https://t.co/5a2xZ6QwPz\", \"url\": \"https://twitter.com/Nicho_7777/status/1582369360953638914\"}\n",
            "{\"id\": 1582369334738923520, \"username\": \"Dingdon50300260\", \"date\": \"2022-10-18 13:53:43+00:00\", \"text\": \"@pramuktiga @Deliajaya22 @Shentia87 @Davedica @prastow @DokterTifa https://t.co/qHyYjJ3xDn\\n\\nTeman SMA Presiden Joko Widodo (Jokowi), Bambang Surojo menghadiri sidang gugatan terkait dugaan ijazah palsu Jokowi di Pengadilan Negeri (PN) Jakarta Pusat.\\n\\nBACA TOLOL EMANG LOE YG TOLOL LANGSUNG PERCAYA DASAR TOLOL https://t.co/MQAcNyN8Ly\", \"url\": \"https://twitter.com/Dingdon50300260/status/1582369334738923520\"}\n",
            "{\"id\": 1582369324777771009, \"username\": \"SimbokeSarah\", \"date\": \"2022-10-18 13:53:40+00:00\", \"text\": \"@B3doel___ @bobbyranty @jokowi Presiden sudah kayak gini masih kurang bener juga, dasar sungsang 🤦‍♀️\", \"url\": \"https://twitter.com/SimbokeSarah/status/1582369324777771009\"}\n",
            "{\"id\": 1582369300257869825, \"username\": \"idntimes\", \"date\": \"2022-10-18 13:53:34+00:00\", \"text\": \"Jokowi sebut IKN akan jadi kota pintar https://t.co/38y9kQ8eRa\", \"url\": \"https://twitter.com/idntimes/status/1582369300257869825\"}\n",
            "{\"id\": 1582369299347668993, \"username\": \"KompascomGO\", \"date\": \"2022-10-18 13:53:34+00:00\", \"text\": \"President Jokowi Receives FIFA President at Merdeka Palace https://t.co/FEo4YuBoxp\", \"url\": \"https://twitter.com/KompascomGO/status/1582369299347668993\"}\n",
            "{\"id\": 1582369298831790080, \"username\": \"abd43658535\", \"date\": \"2022-10-18 13:53:34+00:00\", \"text\": \"@frappuccinos13 @antontanjaya15 @YudiSet16452924 Anda faham gak sih dg mobil esemka?\\nItu bukan mobil nasional spt mobil timornya Tomny Soeharto.\\nJokowi sbg kepala daerah pd waktu mengapresiasi bahwa warganya ada yg bs bikin mobil. Shg kmudian disuport agar bs berkembang. Knapa anda ribet yak...\", \"url\": \"https://twitter.com/abd43658535/status/1582369298831790080\"}\n",
            "{\"id\": 1582369269643636736, \"username\": \"RobbiLukman\", \"date\": \"2022-10-18 13:53:27+00:00\", \"text\": \"@pembela_nalar @Hasbil_Lbs Bapak Jokowi Ahok ini memang Sosok pejabat publik yang tidak pernah punya salah maupun dosa alias manusia suci putih bersih, selain beliau² itu pejabat publik yang lain jahat, korup, banyak dosa, kira² begitu kata si penjilat anjing²an jadi²an gitu y🤣 ayo di jawab pembela nalar\", \"url\": \"https://twitter.com/RobbiLukman/status/1582369269643636736\"}\n",
            "{\"id\": 1582369258700300290, \"username\": \"ardante0\", \"date\": \"2022-10-18 13:53:24+00:00\", \"text\": \"@Paltiwest @jokowi Kenapa ya hal kayak gitu yg dibanggain bukan prestasinya. Pertumbuhan ekonomi aja belum bisa ngelewatin jaman sby.\", \"url\": \"https://twitter.com/ardante0/status/1582369258700300290\"}\n",
            "{\"id\": 1582369237070671873, \"username\": \"Fisabil49338483\", \"date\": \"2022-10-18 13:53:19+00:00\", \"text\": \"@yaniarsim @jokowi Sampai kapanpun kalau belum bisa memperlihatkan Ijazah asli, yg merasa tertipu tidak akan pernah percaya. Sebaliknya sekalipun sekolahnya sudah tidak ada kalau dapat memperlihatkan ijazah asli yg sesuai org akan percaya.😊🇮🇩❤️✌️👌\", \"url\": \"https://twitter.com/Fisabil49338483/status/1582369237070671873\"}\n",
            "{\"id\": 1582369221396221953, \"username\": \"putrivio3\", \"date\": \"2022-10-18 13:53:16+00:00\", \"text\": \"@hyang_wisnu @kemkominfo @jokowi @PlateJohnny @Aryprasetyo85 @03__nakula @DS_yantie @FirzaHusainID @miicies @farrel27 Mencetak talenta digital handal memang dibutuhkan dukungan berbagai pihak.\\n@kemkominfo @PlateJohnny\", \"url\": \"https://twitter.com/putrivio3/status/1582369221396221953\"}\n",
            "{\"id\": 1582369201494274048, \"username\": \"SeijiNobel\", \"date\": \"2022-10-18 13:53:11+00:00\", \"text\": \"Nah Loh, Pak Surya Paloh Pasti Kebakaran Jenggot Karena Mendukung Presiden Jokowi. 😁😁😁\\n\\nSurya Paloh Panik. https://t.co/My1VrHBPah\", \"url\": \"https://twitter.com/SeijiNobel/status/1582369201494274048\"}\n",
            "{\"id\": 1582369187967930369, \"username\": \"JokoHar68301204\", \"date\": \"2022-10-18 13:53:08+00:00\", \"text\": \"Sidang Kasus Ijazah Palsu, Eggi Sudjana Sindir Orang Kejaksaan yang Wakili Presiden Jokowi: Ini Soal Pribadi, Bukan Negara! https://t.co/yxQbHP9vVN\", \"url\": \"https://twitter.com/JokoHar68301204/status/1582369187967930369\"}\n",
            "{\"id\": 1582369186348617728, \"username\": \"yos_ran\", \"date\": \"2022-10-18 13:53:07+00:00\", \"text\": \"@FerdinandHutah5 @jokowi @NasDem https://t.co/4s3qTmUokY\", \"url\": \"https://twitter.com/yos_ran/status/1582369186348617728\"}\n",
            "{\"id\": 1582369180178780162, \"username\": \"Cali6664\", \"date\": \"2022-10-18 13:53:06+00:00\", \"text\": \"@Masnita_djisla @zahranabrisam @Fyandika1 @GunRomli Ngomong2 kadruns masih ngeributin nggak ijazahnya pak Jokowi? Oh lupa, kadruns katanya sih gak percaya hoax tapi kalo nyebarin, they are numero uno!🤣😆\", \"url\": \"https://twitter.com/Cali6664/status/1582369180178780162\"}\n",
            "{\"id\": 1582369177645461504, \"username\": \"KessaKrisnan\", \"date\": \"2022-10-18 13:53:05+00:00\", \"text\": \"@jokowi Pak @jokowi punten,Kalau para pengurus dan seluruh yang ada di @PSSI kapan pak diruntuhkan ? Biar sekalian membangun pssi dengan orang2 baru.. 👀\", \"url\": \"https://twitter.com/KessaKrisnan/status/1582369177645461504\"}\n",
            "{\"id\": 1582369175187570691, \"username\": \"bem_unpad\", \"date\": \"2022-10-18 13:53:05+00:00\", \"text\": \"Masihkah kepengurusan Jokowi-Maaruf disebut berhasil setelah mengetahui janji-janji pemimpin yang tak kunjung direalisasi? \\n\\n#JokowiAmin\\n#JokowiAminGagal\\n#3TahunJokowiAmin\\n\\n#KabinetGarisDepan #WujudkanMasaDepan\", \"url\": \"https://twitter.com/bem_unpad/status/1582369175187570691\"}\n",
            "{\"id\": 1582369168875143168, \"username\": \"bem_unpad\", \"date\": \"2022-10-18 13:53:03+00:00\", \"text\": \"Kepengurusan Jokowi-Maaruf ini dipenuhi dengan janji-janji manis. Sayangnya, janji-janji tersebut hanya sebatas janji semata, tidak pernah direalisasikan, apa lagi dirasakan manfaatnya oleh rakyat. https://t.co/6dobJrfAvH\", \"url\": \"https://twitter.com/bem_unpad/status/1582369168875143168\"}\n",
            "{\"id\": 1582369156032532481, \"username\": \"PerkasaHabsyah\", \"date\": \"2022-10-18 13:53:00+00:00\", \"text\": \"Udah ada titik terang dalam masalah kumis jokowi?\", \"url\": \"https://twitter.com/PerkasaHabsyah/status/1582369156032532481\"}\n",
            "{\"id\": 1582369140899123200, \"username\": \"MaryanaNunung\", \"date\": \"2022-10-18 13:52:56+00:00\", \"text\": \"@jokowi Sangat super sekali gimana gak semangkin di\\nCintai karena sikapnya tiada sekat apalagi pembatas antara preaiden dan rakyat.nya.🙏👍💪🇮🇩\", \"url\": \"https://twitter.com/MaryanaNunung/status/1582369140899123200\"}\n",
            "{\"id\": 1582369138034368513, \"username\": \"YudiIstiono\", \"date\": \"2022-10-18 13:52:56+00:00\", \"text\": \"@Humaira922 @jokowi Emang kalian siapa? Ga milih Pak Jokowi kok kalian ngatur2 Presiden wkwkwkwkwk kumpulan orang2 bego\", \"url\": \"https://twitter.com/YudiIstiono/status/1582369138034368513\"}\n",
            "{\"id\": 1582369121765031937, \"username\": \"RealRich377\", \"date\": \"2022-10-18 13:52:52+00:00\", \"text\": \"@AURI_okman @jokowi Itu kan ktemu presiden fifa buat ngbahas kasus kanjuruhan juga gblookkk\", \"url\": \"https://twitter.com/RealRich377/status/1582369121765031937\"}\n",
            "{\"id\": 1582369117730136065, \"username\": \"kakak_pembina\", \"date\": \"2022-10-18 13:52:51+00:00\", \"text\": \"@jokowi Operasi hidung dari mancung jadi pesek dimana ya pak? Sama mata minus sejak kuliah jadi normal...\", \"url\": \"https://twitter.com/kakak_pembina/status/1582369117730136065\"}\n",
            "{\"id\": 1582369092660383745, \"username\": \"Daeng_Lingu\", \"date\": \"2022-10-18 13:52:45+00:00\", \"text\": \"Pak Jokowi Bantu Kami Membangun Kembali Stadion Mattoanging di Sulawesi Selatan - Tandatangani Petisi! https://t.co/zWQFISFrsi lewat @ChangeOrg_ID\", \"url\": \"https://twitter.com/Daeng_Lingu/status/1582369092660383745\"}\n",
            "{\"id\": 1582369088026062849, \"username\": \"Harry48666505\", \"date\": \"2022-10-18 13:52:44+00:00\", \"text\": \"@keuangannews_id Saya percaya Jokowi lengser 2024... ramalan yang tepat\", \"url\": \"https://twitter.com/Harry48666505/status/1582369088026062849\"}\n",
            "{\"id\": 1582369084137967616, \"username\": \"BdgTimurOnline\", \"date\": \"2022-10-18 13:52:43+00:00\", \"text\": \"Pertemuan Jokowi dengan Presiden FIFA, Komitmen Tragedi Kanjuruhan Tak Terjadi di Masa Depan https://t.co/suJ78Vm69H https://t.co/JLLGO8HCrO\", \"url\": \"https://twitter.com/BdgTimurOnline/status/1582369084137967616\"}\n",
            "{\"id\": 1582369053972176896, \"username\": \"SidraCryptoCoin\", \"date\": \"2022-10-18 13:52:36+00:00\", \"text\": \"Bersikap Ksatria lah Jok,buktikan kalau Ijazahmu Asli @jokowi https://t.co/qH83qjXFwD\", \"url\": \"https://twitter.com/SidraCryptoCoin/status/1582369053972176896\"}\n",
            "{\"id\": 1582369052869070849, \"username\": \"Sparbos\", \"date\": \"2022-10-18 13:52:35+00:00\", \"text\": \"@Citrakiranti5 @txtdrpemerintah Eh ada bocil \\\"cebong-kadrun\\\". Standar ganda anti-kritik. Awowkwok\\n\\nKaum badut politik. Nanti Anies gabung sama Jokowi nangesss awkowkwok\", \"url\": \"https://twitter.com/Sparbos/status/1582369052869070849\"}\n",
            "{\"id\": 1582369049983725568, \"username\": \"RadenKianSayang\", \"date\": \"2022-10-18 13:52:35+00:00\", \"text\": \"@cobeh2021 Diresmikan Megawati,\\nDiruntuhkan Jokowi https://t.co/lJaCXPnkfF\", \"url\": \"https://twitter.com/RadenKianSayang/status/1582369049983725568\"}\n",
            "{\"id\": 1582369044896043009, \"username\": \"HopsIndonesia\", \"date\": \"2022-10-18 13:52:33+00:00\", \"text\": \"Buntut tragedi mencekam, Jokowi dan FIFA sepakat untuk robohkan stadiun Kanjuruhan Malang https://t.co/QWCQnhOLPY\", \"url\": \"https://twitter.com/HopsIndonesia/status/1582369044896043009\"}\n",
            "{\"id\": 1582369028542062592, \"username\": \"Mercyboyz\", \"date\": \"2022-10-18 13:52:30+00:00\", \"text\": \"@adisatya @den_denai @wisnutr @Paltiwest @jokowi Lu urus Jakarta, Anies benahin Indonesia.. Mosok salah sehhh😂\", \"url\": \"https://twitter.com/Mercyboyz/status/1582369028542062592\"}\n",
            "{\"id\": 1582369005150826497, \"username\": \"RepelitaO\", \"date\": \"2022-10-18 13:52:24+00:00\", \"text\": \"Teman SMA Jokowi Mengaku Ijazahnya Pernah Ditawar 10 Miliar, Diduga Terkait Isu Ijazah Palsu Jokowi https://t.co/WV2thUiJ30\", \"url\": \"https://twitter.com/RepelitaO/status/1582369005150826497\"}\n",
            "{\"id\": 1582368962029182976, \"username\": \"VIVAcoid\", \"date\": \"2022-10-18 13:52:14+00:00\", \"text\": \"Irjen Fadil Gelar Arahan untuk Meneruskan Pesan Jokowi dari Istana https://t.co/FR4pDwMxl5\", \"url\": \"https://twitter.com/VIVAcoid/status/1582368962029182976\"}\n",
            "{\"id\": 1582368957193129984, \"username\": \"rimacahaya660\", \"date\": \"2022-10-18 13:52:13+00:00\", \"text\": \"@yaniarsim @jokowi Kasian....kasian...kasian.....\\nCkckckckkk\", \"url\": \"https://twitter.com/rimacahaya660/status/1582368957193129984\"}\n",
            "{\"id\": 1582368947869188101, \"username\": \"Riau24Com\", \"date\": \"2022-10-18 13:52:10+00:00\", \"text\": \"Jokowi Beberkan Perbedaan IKN dengan Ibu Kota Negara Lain https://t.co/rJINKfN5gK\", \"url\": \"https://twitter.com/Riau24Com/status/1582368947869188101\"}\n",
            "{\"id\": 1582368941946843141, \"username\": \"Onehas76Onehas\", \"date\": \"2022-10-18 13:52:09+00:00\", \"text\": \"@jokowi Luar biasa presiden ku ini\", \"url\": \"https://twitter.com/Onehas76Onehas/status/1582368941946843141\"}\n",
            "{\"id\": 1582368897516568576, \"username\": \"AlexMsiagian\", \"date\": \"2022-10-18 13:51:58+00:00\", \"text\": \"@Cintada16 @Nasdem Berpolitik mendeklarasikan Presiden, saat Presiden @jokowi masih menjabat dan kontestasi belum dibuka secara Resmi.\\n\\nBerpolitik Berani tapi Takut di Reshuffle\", \"url\": \"https://twitter.com/AlexMsiagian/status/1582368897516568576\"}\n",
            "{\"id\": 1582368883365011456, \"username\": \"ElinaDio19\", \"date\": \"2022-10-18 13:51:55+00:00\", \"text\": \"@Siantar72 @SimbokeSarah @BeiKhiar @SPrabawanta @vonnycornellya_ @jokowi @SuhartiniTaurus Kirim sangunya lewat aku ya mbok😊\", \"url\": \"https://twitter.com/ElinaDio19/status/1582368883365011456\"}\n",
            "{\"id\": 1582368873491275777, \"username\": \"HusinShihab\", \"date\": \"2022-10-18 13:51:53+00:00\", \"text\": \"Penggugat ijazah palsu itu bukan Eggi. Dia mewakili penggugat yg tak hadir di persidangan. \\n\\nJika Eggi memang advokat sejati mestinya menghormati pak @jokowi yg tak hadir dalam persidangan tsb. \\n\\nSikap Eggi ini sama saja mendiskreditkan dirinya sebagai advokat. https://t.co/eT0LqGeTFN\", \"url\": \"https://twitter.com/HusinShihab/status/1582368873491275777\"}\n",
            "{\"id\": 1582368866264416256, \"username\": \"Irfanz_andre\", \"date\": \"2022-10-18 13:51:51+00:00\", \"text\": \"@galio96015001 @yaniarsim @jokowi Apa sih yg gak mungkin di konoha..?\", \"url\": \"https://twitter.com/Irfanz_andre/status/1582368866264416256\"}\n",
            "{\"id\": 1582368862049558528, \"username\": \"Harispetriano\", \"date\": \"2022-10-18 13:51:50+00:00\", \"text\": \"@jokowi Ngeri paspampres nya kekarr uyy\", \"url\": \"https://twitter.com/Harispetriano/status/1582368862049558528\"}\n",
            "{\"id\": 1582368844366385153, \"username\": \"MHidaya03684380\", \"date\": \"2022-10-18 13:51:46+00:00\", \"text\": \"@jokowi Satu hal dari Presiden FIFA mengenai duka cita mendalam akibat tragedi yang tak disangka sangka sebelumnya. Maka perlu perhatian serius kepada semua pihak korban baik dari pihak supporter, panitia pelaksana dan pihak keamanan tentunya.\", \"url\": \"https://twitter.com/MHidaya03684380/status/1582368844366385153\"}\n",
            "{\"id\": 1582368832064479232, \"username\": \"lilianlolanda\", \"date\": \"2022-10-18 13:51:43+00:00\", \"text\": \"Pengamat Politik Universitas Paramadina Hendri Satrio menduga Megawati Soekarnoptri sempat melobi Presiden Jokowi agar mendukung Puan Maharani di Pilpres 2024 dalamlis, Bogor. Dugaan itu berdasarkan Batu Tulis sebagai tempat yg identik dgn Sukarno. https://t.co/atnCtNFZKF\", \"url\": \"https://twitter.com/lilianlolanda/status/1582368832064479232\"}\n",
            "{\"id\": 1582368805283827712, \"username\": \"NiAsYkXu5219Hot\", \"date\": \"2022-10-18 13:51:36+00:00\", \"text\": \"@Humaira922 @jokowi Setelah di klarifikasi pihak @UGMYogyakarta ente gk percaya pada institusi yg menerbitkan nya. Jangan jangan ente jg gk percaya klarifikasi dari SMA Negeri 6 Surakarta yang dulu nya bernama SMPP 40 Surakarta https://t.co/rzJPtdlLeU\", \"url\": \"https://twitter.com/NiAsYkXu5219Hot/status/1582368805283827712\"}\n",
            "{\"id\": 1582368778268315651, \"username\": \"rezimc3bong\", \"date\": \"2022-10-18 13:51:30+00:00\", \"text\": \"Melihat foto ini menguatkan prediksi saya jika Ganjar akan menjadi Presiden BONEKA Kedua setelah Jokowi lengser.\\nBerdo'alah semoga Indonesia akan baik-baik saja.\\n\\nحَسْبُنَا اللهُ وَنِعْمَ الْوَكِيْلُ نِعْمَ الْمَوْلَى وَنِعْمَ النَّصِيْرُ https://t.co/pP2pumakko\", \"url\": \"https://twitter.com/rezimc3bong/status/1582368778268315651\"}\n",
            "{\"id\": 1582368756885385217, \"username\": \"wakidijon\", \"date\": \"2022-10-18 13:51:25+00:00\", \"text\": \"@me_thefarmer @mihrabku @jokowi Benerlah bong,kan bukan alpatekah\", \"url\": \"https://twitter.com/wakidijon/status/1582368756885385217\"}\n",
            "{\"id\": 1582368737537114112, \"username\": \"Mercyboyz\", \"date\": \"2022-10-18 13:51:20+00:00\", \"text\": \"@adisatya @den_denai @wisnutr @Paltiwest @jokowi Hayooo sebut Anies... 😂 bantu algoritmanya.. Makin jooosss bro nandur\", \"url\": \"https://twitter.com/Mercyboyz/status/1582368737537114112\"}\n",
            "{\"id\": 1582368722605727749, \"username\": \"arsyakindo100\", \"date\": \"2022-10-18 13:51:17+00:00\", \"text\": \"jika pak jokowi asli mahasiswa UGM, coba ditanya tentang CGMI, kira2 ngerti gak...itulah organisasi mahasiswa dibawah naungan PKI..\", \"url\": \"https://twitter.com/arsyakindo100/status/1582368722605727749\"}\n",
            "{\"id\": 1582368713428566017, \"username\": \"hastarika\", \"date\": \"2022-10-18 13:51:14+00:00\", \"text\": \"Emang kasusnya udah dianggap kelar begitu aja ya, pak @jokowi ? Kok barbuknya udah mau diruntuhin aja? https://t.co/sRL3tLsmNN\", \"url\": \"https://twitter.com/hastarika/status/1582368713428566017\"}\n",
            "{\"id\": 1582368684864991233, \"username\": \"jolodong_kumat\", \"date\": \"2022-10-18 13:51:08+00:00\", \"text\": \"@higgsdomino_id Kepada pak @jokowi dan @ListyoSigitP ,mohon pencerahan.apakah pasal 303 tidak berlaku kepada judi yang berkedok game Higgs domino @higgsdomino_id ? Karena setiap laporan baik di @kemkominfo tidak ada tanggapan sama sekali,apakah hukum dan UU di negeri ini takluk dengan judi ini ?\", \"url\": \"https://twitter.com/jolodong_kumat/status/1582368684864991233\"}\n",
            "{\"id\": 1582368668327243778, \"username\": \"JokoHar68301204\", \"date\": \"2022-10-18 13:51:04+00:00\", \"text\": \"Sidang Perdana Gugatan Ijazah Palsu, Jokowi Gak Berani Datang! Cuma Ngutus Tim Kejaksaan: Ini Bukan Urusan Negara https://t.co/ksT8WB0axB\", \"url\": \"https://twitter.com/JokoHar68301204/status/1582368668327243778\"}\n",
            "{\"id\": 1582368667257274368, \"username\": \"cnbcindonesia\", \"date\": \"2022-10-18 13:51:03+00:00\", \"text\": \"Jokowi Jualan IKN ke Investor: Belum Ada Ini di Negara Lain https://t.co/KNEm2rKw9w\", \"url\": \"https://twitter.com/cnbcindonesia/status/1582368667257274368\"}\n",
            "{\"id\": 1582368657719820290, \"username\": \"cerdas_beriman2\", \"date\": \"2022-10-18 13:51:01+00:00\", \"text\": \"@jokowi Disaat ratusan arek malang mati tertembak gas air mata..\", \"url\": \"https://twitter.com/cerdas_beriman2/status/1582368657719820290\"}\n",
            "{\"id\": 1582368643257860097, \"username\": \"AnthonyBudiawan\", \"date\": \"2022-10-18 13:50:58+00:00\", \"text\": \"Lembaga Riset &amp; Konsultan Trust luncurkan hasil survei nasional key opinion leader, 7-11 Oktober 2022: tingkat kepuasan terhadap kinerja Jokowi hanya 32,1%? Bertolak belakang dengan hasil survei dr lembaga SurveyRp yg selalu mengatakan tingkat kepuasan terhadap Jokowi 60% lebih? https://t.co/SC5ov9fdVj\", \"url\": \"https://twitter.com/AnthonyBudiawan/status/1582368643257860097\"}\n",
            "{\"id\": 1582368633573224448, \"username\": \"dram214\", \"date\": \"2022-10-18 13:50:55+00:00\", \"text\": \"@petruspasaribuu @jokowi @NasDem Terkesan benar tapi yah dalam politik ga gitulah, sama sama tahu lah, faiplay dalam sepak bola dalam politik??...siapa yg bisa menggaet hati rakyat itu yg menang....karena kesinambungan pemerintahan akan dampak positif juga buat rakyat tdk ganti ganti tapi pada pada txk dewasa\", \"url\": \"https://twitter.com/dram214/status/1582368633573224448\"}\n"
          ]
        }
      ]
    },
    {
      "cell_type": "code",
      "source": [
        "datatw"
      ],
      "metadata": {
        "colab": {
          "base_uri": "https://localhost:8080/"
        },
        "id": "69pa7KUuZ0Ny",
        "outputId": "258d8fe3-96fb-4312-b9ee-9ea052e73ad8"
      },
      "execution_count": null,
      "outputs": [
        {
          "output_type": "execute_result",
          "data": {
            "text/plain": [
              "['@HusinShihab @jokowi @Syarman59 @ChusnulCh__ @Madebylaluna @GunRomli @sjahtie @pn7l7h @Uki23 @pengarang_sajak @Aryprasetyo85 @ex_AnakLolina Namanya juga orang sarap',\n",
              " '@OposisiCerdas Dalam Politik Tidak ada jaminan 100% .... Untuk menjalankan janji2... Contohnya baik Pak Jokowi &amp; pak Prabowo...????',\n",
              " '@hyang_wisnu @kemkominfo @jokowi @PlateJohnny @Aryprasetyo85 @03__nakula @DS_yantie @FirzaHusainID @miicies @farrel27 Kebutuhan akan talenta digital di Indonesia masih tinggi, dan dukungan berbagai pihak sangatlah penting.\\n@kemkominfo @PlateJohnny',\n",
              " '@DeepBlackCoffee @Syarman59 @Humaira922 @jokowi Nanti alasannya kan HIR buatan kapir Bang wkwkwkwkwkwkwk',\n",
              " '@HusinShihab @jokowi @Syarman59 @ChusnulCh__ @Madebylaluna @GunRomli @sjahtie @pn7l7h @Uki23 @pengarang_sajak @Aryprasetyo85 @ex_AnakLolina Egi Sujana itu Pembenci Jokowi sejak Pilpres 2014, dia dendam &amp; sakit hati sama Jokowi karna kelompoknya kalah Pilpres 2014 &amp; 2019. \\nDari 2014 dia sering teriak2 People Power dan melakukan segala cara untuk melengserkan Jokowi. Di 2019 dia ditangkap dan jadi tersangka kasus Makar',\n",
              " '@Ibas @angelichris @detikcom @BPOM_RI @YLKI_ID @KemenkesRI @jokowi gak ada yg bilang 100% mas, makanya itu saya jelasin kl ada perusahaan nakal yang pas izin registrasinya aman tp ternyata saat kedepannya jadi engga aman, itu bpom bakalan inspeksi mendadak ke beberapa perusahaan yang terindikasi seperti itu',\n",
              " '@jokowi Jangan hilangkan tkp',\n",
              " '@HusinShihab @sarpan2000 @jokowi @Syarman59 @ChusnulCh__ @Madebylaluna @GunRomli @sjahtie @pn7l7h @Uki23 @pengarang_sajak @Aryprasetyo85 @ex_AnakLolina Org kok hdpnya bikin ssh org lain segitu bencinya sama jkw dibayar brp sma bohir smpe ngotot bgtu',\n",
              " '@Rahmat160131378 @jokowi Tuh kang udah langsung dijawab beberapa hari yg lalu, buruan cari loker ikut bantu renov ...\\nhttps://t.co/5EGpfVFsVT',\n",
              " '@ANDINI_MAHARAN1 Nnti klow ijasahnya palsu,,,apa jokowi bisa lengser secara hukum,,,maaf saya tanya..🙏🙏',\n",
              " '@Mercyboyz @adisatya @wisnutr @Paltiwest @jokowi 2024 Jan lp sujud syukur lg ya,kyk yg Ono d prank sama tv oon...😝😝😝',\n",
              " '@FerdinandHutah5 @jokowi @NasDem Baca twuittmu di ketawaiin listi 🤣🤣🤣 https://t.co/EmXIiQo7Nq',\n",
              " '@cursedkidd @jokowi kmu gbole nge-tik sperti itu wil, nnti kmu diusir dari negara',\n",
              " '@maspiyuaja Kalau anda protes, berarti pak Jokowi sdh benar .',\n",
              " '@AURI_okman @jokowi Dari namanya aja keliatan',\n",
              " '@hyang_wisnu @kemkominfo @jokowi @PlateJohnny @Aryprasetyo85 @03__nakula @DS_yantie @FirzaHusainID @miicies @farrel27 Harus saling berkolaborasi untuk menghasilkan talenta digital handal \\n@kemkominfo @PlateJohnny',\n",
              " '@panjianom102 @NegeriKolam Yang suka bukan ribuan tapi jutaan, tapi masih banyakan yang suka Jokowi sih, buktinya pilpres menang terus',\n",
              " 'Slmt ultah bu Kaban @bpsdmkemendes @LuthfiyahNurla1 semoga sht walafiat &amp; sukses selalu. Aamiin.\\n#TPPJawaTimur\\n#TPPLamongan\\n#PendampingDesaInspiratif\\n@jokowi\\n@halimiskandarnu\\n@taufikmadjid71\\n@malik_haramain\\n@yusradaridesa\\n@kemendespdtt\\n@tppkemendes\\n@Iskandar__NH\\n@MasMukhlish182 https://t.co/7Ix0HTcX1w',\n",
              " '@Nandagustiann @Syarman59 @jokowi @NasDem Harusnya..tapi kenyataaan bisa sangat berbeda..',\n",
              " '@erickthohir @jokowi Trus nasib 133 warga negara yang kehilangan nyawa gimana? Yang udah sebabkan mereka kehilangan nyawa kapan mau diperbaiki?',\n",
              " '@KatakanKebenarn @DokterTifa Yaelaaa.. ud pernah kuliah lom siy? Lulusan th85 ktmu lg th22 pasti aja pangling! Gs us jokowi, gw aja gitu yg ga pny urusan sebanyak presiden, ktmu trus nanya.. siapa ya, lupa! Jgn meng-ada ah, norak tauk!',\n",
              " 'makasi banyak @jokowi 😘\\n\\n#THANKYOUJOKOWI\\n#GOMAWOOWIOPPA\\n#ARIGATOJOKOWI https://t.co/1QDRxD0XvC',\n",
              " 'Sebenarnya Isu Ijazah Ini Sangat Mudah Di Hentikan Jika @jokowi Berani Menunjukkan Ijazah Aslinya, Sayangnya Keberanian Itu Tidak Dimiliki Sehingga Menciptakan Kegaduhan Di Ruang Publik. Sialnya Bambang Tri Selaku Penggugat Malah Di Tangkap Polisi dan Itu Menimbulkan Kecurigaan. https://t.co/5a2xZ6QwPz',\n",
              " '@pramuktiga @Deliajaya22 @Shentia87 @Davedica @prastow @DokterTifa https://t.co/qHyYjJ3xDn\\n\\nTeman SMA Presiden Joko Widodo (Jokowi), Bambang Surojo menghadiri sidang gugatan terkait dugaan ijazah palsu Jokowi di Pengadilan Negeri (PN) Jakarta Pusat.\\n\\nBACA TOLOL EMANG LOE YG TOLOL LANGSUNG PERCAYA DASAR TOLOL https://t.co/MQAcNyN8Ly',\n",
              " '@B3doel___ @bobbyranty @jokowi Presiden sudah kayak gini masih kurang bener juga, dasar sungsang 🤦\\u200d♀️',\n",
              " 'Jokowi sebut IKN akan jadi kota pintar https://t.co/38y9kQ8eRa',\n",
              " 'President Jokowi Receives FIFA President at Merdeka Palace https://t.co/FEo4YuBoxp',\n",
              " '@frappuccinos13 @antontanjaya15 @YudiSet16452924 Anda faham gak sih dg mobil esemka?\\nItu bukan mobil nasional spt mobil timornya Tomny Soeharto.\\nJokowi sbg kepala daerah pd waktu mengapresiasi bahwa warganya ada yg bs bikin mobil. Shg kmudian disuport agar bs berkembang. Knapa anda ribet yak...',\n",
              " '@pembela_nalar @Hasbil_Lbs Bapak Jokowi Ahok ini memang Sosok pejabat publik yang tidak pernah punya salah maupun dosa alias manusia suci putih bersih, selain beliau² itu pejabat publik yang lain jahat, korup, banyak dosa, kira² begitu kata si penjilat anjing²an jadi²an gitu y🤣 ayo di jawab pembela nalar',\n",
              " '@Paltiwest @jokowi Kenapa ya hal kayak gitu yg dibanggain bukan prestasinya. Pertumbuhan ekonomi aja belum bisa ngelewatin jaman sby.',\n",
              " '@yaniarsim @jokowi Sampai kapanpun kalau belum bisa memperlihatkan Ijazah asli, yg merasa tertipu tidak akan pernah percaya. Sebaliknya sekalipun sekolahnya sudah tidak ada kalau dapat memperlihatkan ijazah asli yg sesuai org akan percaya.😊🇮🇩❤️✌️👌',\n",
              " '@hyang_wisnu @kemkominfo @jokowi @PlateJohnny @Aryprasetyo85 @03__nakula @DS_yantie @FirzaHusainID @miicies @farrel27 Mencetak talenta digital handal memang dibutuhkan dukungan berbagai pihak.\\n@kemkominfo @PlateJohnny',\n",
              " 'Nah Loh, Pak Surya Paloh Pasti Kebakaran Jenggot Karena Mendukung Presiden Jokowi. 😁😁😁\\n\\nSurya Paloh Panik. https://t.co/My1VrHBPah',\n",
              " 'Sidang Kasus Ijazah Palsu, Eggi Sudjana Sindir Orang Kejaksaan yang Wakili Presiden Jokowi: Ini Soal Pribadi, Bukan Negara! https://t.co/yxQbHP9vVN',\n",
              " '@FerdinandHutah5 @jokowi @NasDem https://t.co/4s3qTmUokY',\n",
              " '@Masnita_djisla @zahranabrisam @Fyandika1 @GunRomli Ngomong2 kadruns masih ngeributin nggak ijazahnya pak Jokowi? Oh lupa, kadruns katanya sih gak percaya hoax tapi kalo nyebarin, they are numero uno!🤣😆',\n",
              " '@jokowi Pak @jokowi punten,Kalau para pengurus dan seluruh yang ada di @PSSI kapan pak diruntuhkan ? Biar sekalian membangun pssi dengan orang2 baru.. 👀',\n",
              " 'Masihkah kepengurusan Jokowi-Maaruf disebut berhasil setelah mengetahui janji-janji pemimpin yang tak kunjung direalisasi? \\n\\n#JokowiAmin\\n#JokowiAminGagal\\n#3TahunJokowiAmin\\n\\n#KabinetGarisDepan #WujudkanMasaDepan',\n",
              " 'Kepengurusan Jokowi-Maaruf ini dipenuhi dengan janji-janji manis. Sayangnya, janji-janji tersebut hanya sebatas janji semata, tidak pernah direalisasikan, apa lagi dirasakan manfaatnya oleh rakyat. https://t.co/6dobJrfAvH',\n",
              " 'Udah ada titik terang dalam masalah kumis jokowi?',\n",
              " '@jokowi Sangat super sekali gimana gak semangkin di\\nCintai karena sikapnya tiada sekat apalagi pembatas antara preaiden dan rakyat.nya.🙏👍💪🇮🇩',\n",
              " '@Humaira922 @jokowi Emang kalian siapa? Ga milih Pak Jokowi kok kalian ngatur2 Presiden wkwkwkwkwk kumpulan orang2 bego',\n",
              " '@AURI_okman @jokowi Itu kan ktemu presiden fifa buat ngbahas kasus kanjuruhan juga gblookkk',\n",
              " '@jokowi Operasi hidung dari mancung jadi pesek dimana ya pak? Sama mata minus sejak kuliah jadi normal...',\n",
              " 'Pak Jokowi Bantu Kami Membangun Kembali Stadion Mattoanging di Sulawesi Selatan - Tandatangani Petisi! https://t.co/zWQFISFrsi lewat @ChangeOrg_ID',\n",
              " '@keuangannews_id Saya percaya Jokowi lengser 2024... ramalan yang tepat',\n",
              " 'Pertemuan Jokowi dengan Presiden FIFA, Komitmen Tragedi Kanjuruhan Tak Terjadi di Masa Depan https://t.co/suJ78Vm69H https://t.co/JLLGO8HCrO',\n",
              " 'Bersikap Ksatria lah Jok,buktikan kalau Ijazahmu Asli @jokowi https://t.co/qH83qjXFwD',\n",
              " '@Citrakiranti5 @txtdrpemerintah Eh ada bocil \"cebong-kadrun\". Standar ganda anti-kritik. Awowkwok\\n\\nKaum badut politik. Nanti Anies gabung sama Jokowi nangesss awkowkwok',\n",
              " '@cobeh2021 Diresmikan Megawati,\\nDiruntuhkan Jokowi https://t.co/lJaCXPnkfF',\n",
              " 'Buntut tragedi mencekam, Jokowi dan FIFA sepakat untuk robohkan stadiun Kanjuruhan Malang https://t.co/QWCQnhOLPY',\n",
              " '@adisatya @den_denai @wisnutr @Paltiwest @jokowi Lu urus Jakarta, Anies benahin Indonesia.. Mosok salah sehhh😂',\n",
              " 'Teman SMA Jokowi Mengaku Ijazahnya Pernah Ditawar 10 Miliar, Diduga Terkait Isu Ijazah Palsu Jokowi https://t.co/WV2thUiJ30',\n",
              " 'Irjen Fadil Gelar Arahan untuk Meneruskan Pesan Jokowi dari Istana https://t.co/FR4pDwMxl5',\n",
              " '@yaniarsim @jokowi Kasian....kasian...kasian.....\\nCkckckckkk',\n",
              " 'Jokowi Beberkan Perbedaan IKN dengan Ibu Kota Negara Lain https://t.co/rJINKfN5gK',\n",
              " '@jokowi Luar biasa presiden ku ini',\n",
              " '@Cintada16 @Nasdem Berpolitik mendeklarasikan Presiden, saat Presiden @jokowi masih menjabat dan kontestasi belum dibuka secara Resmi.\\n\\nBerpolitik Berani tapi Takut di Reshuffle',\n",
              " '@Siantar72 @SimbokeSarah @BeiKhiar @SPrabawanta @vonnycornellya_ @jokowi @SuhartiniTaurus Kirim sangunya lewat aku ya mbok😊',\n",
              " 'Penggugat ijazah palsu itu bukan Eggi. Dia mewakili penggugat yg tak hadir di persidangan. \\n\\nJika Eggi memang advokat sejati mestinya menghormati pak @jokowi yg tak hadir dalam persidangan tsb. \\n\\nSikap Eggi ini sama saja mendiskreditkan dirinya sebagai advokat. https://t.co/eT0LqGeTFN',\n",
              " '@galio96015001 @yaniarsim @jokowi Apa sih yg gak mungkin di konoha..?',\n",
              " '@jokowi Ngeri paspampres nya kekarr uyy',\n",
              " '@jokowi Satu hal dari Presiden FIFA mengenai duka cita mendalam akibat tragedi yang tak disangka sangka sebelumnya. Maka perlu perhatian serius kepada semua pihak korban baik dari pihak supporter, panitia pelaksana dan pihak keamanan tentunya.',\n",
              " 'Pengamat Politik Universitas Paramadina Hendri Satrio menduga Megawati Soekarnoptri sempat melobi Presiden Jokowi agar mendukung Puan Maharani di Pilpres 2024 dalamlis, Bogor. Dugaan itu berdasarkan Batu Tulis sebagai tempat yg identik dgn Sukarno. https://t.co/atnCtNFZKF',\n",
              " '@Humaira922 @jokowi Setelah di klarifikasi pihak @UGMYogyakarta ente gk percaya pada institusi yg menerbitkan nya. Jangan jangan ente jg gk percaya klarifikasi dari SMA Negeri 6 Surakarta yang dulu nya bernama SMPP 40 Surakarta https://t.co/rzJPtdlLeU',\n",
              " \"Melihat foto ini menguatkan prediksi saya jika Ganjar akan menjadi Presiden BONEKA Kedua setelah Jokowi lengser.\\nBerdo'alah semoga Indonesia akan baik-baik saja.\\n\\nحَسْبُنَا اللهُ وَنِعْمَ الْوَكِيْلُ نِعْمَ الْمَوْلَى وَنِعْمَ النَّصِيْرُ https://t.co/pP2pumakko\",\n",
              " '@me_thefarmer @mihrabku @jokowi Benerlah bong,kan bukan alpatekah',\n",
              " '@adisatya @den_denai @wisnutr @Paltiwest @jokowi Hayooo sebut Anies... 😂 bantu algoritmanya.. Makin jooosss bro nandur',\n",
              " 'jika pak jokowi asli mahasiswa UGM, coba ditanya tentang CGMI, kira2 ngerti gak...itulah organisasi mahasiswa dibawah naungan PKI..',\n",
              " 'Emang kasusnya udah dianggap kelar begitu aja ya, pak @jokowi ? Kok barbuknya udah mau diruntuhin aja? https://t.co/sRL3tLsmNN',\n",
              " '@higgsdomino_id Kepada pak @jokowi dan @ListyoSigitP ,mohon pencerahan.apakah pasal 303 tidak berlaku kepada judi yang berkedok game Higgs domino @higgsdomino_id ? Karena setiap laporan baik di @kemkominfo tidak ada tanggapan sama sekali,apakah hukum dan UU di negeri ini takluk dengan judi ini ?',\n",
              " 'Sidang Perdana Gugatan Ijazah Palsu, Jokowi Gak Berani Datang! Cuma Ngutus Tim Kejaksaan: Ini Bukan Urusan Negara https://t.co/ksT8WB0axB',\n",
              " 'Jokowi Jualan IKN ke Investor: Belum Ada Ini di Negara Lain https://t.co/KNEm2rKw9w',\n",
              " '@jokowi Disaat ratusan arek malang mati tertembak gas air mata..',\n",
              " 'Lembaga Riset &amp; Konsultan Trust luncurkan hasil survei nasional key opinion leader, 7-11 Oktober 2022: tingkat kepuasan terhadap kinerja Jokowi hanya 32,1%? Bertolak belakang dengan hasil survei dr lembaga SurveyRp yg selalu mengatakan tingkat kepuasan terhadap Jokowi 60% lebih? https://t.co/SC5ov9fdVj',\n",
              " '@petruspasaribuu @jokowi @NasDem Terkesan benar tapi yah dalam politik ga gitulah, sama sama tahu lah, faiplay dalam sepak bola dalam politik??...siapa yg bisa menggaet hati rakyat itu yg menang....karena kesinambungan pemerintahan akan dampak positif juga buat rakyat tdk ganti ganti tapi pada pada txk dewasa']"
            ]
          },
          "metadata": {},
          "execution_count": 7
        }
      ]
    },
    {
      "cell_type": "code",
      "source": [
        "!pip install Sastrawi"
      ],
      "metadata": {
        "colab": {
          "base_uri": "https://localhost:8080/"
        },
        "id": "mivPq0FZaAQX",
        "outputId": "756a7f87-6345-473d-c095-f21e672821e9"
      },
      "execution_count": null,
      "outputs": [
        {
          "output_type": "stream",
          "name": "stdout",
          "text": [
            "Looking in indexes: https://pypi.org/simple, https://us-python.pkg.dev/colab-wheels/public/simple/\n",
            "Collecting Sastrawi\n",
            "  Downloading Sastrawi-1.0.1-py2.py3-none-any.whl (209 kB)\n",
            "\u001b[K     |████████████████████████████████| 209 kB 5.4 MB/s \n",
            "\u001b[?25hInstalling collected packages: Sastrawi\n",
            "Successfully installed Sastrawi-1.0.1\n"
          ]
        }
      ]
    },
    {
      "cell_type": "code",
      "source": [
        "!pip install beautifulsoup4"
      ],
      "metadata": {
        "colab": {
          "base_uri": "https://localhost:8080/"
        },
        "id": "8bHJ-EogaJQy",
        "outputId": "92bc8c21-14eb-4f83-813f-57eb01be868d"
      },
      "execution_count": null,
      "outputs": [
        {
          "output_type": "stream",
          "name": "stdout",
          "text": [
            "Looking in indexes: https://pypi.org/simple, https://us-python.pkg.dev/colab-wheels/public/simple/\n",
            "Requirement already satisfied: beautifulsoup4 in /usr/local/lib/python3.7/dist-packages (4.6.3)\n"
          ]
        }
      ]
    },
    {
      "cell_type": "code",
      "source": [
        "import re\n",
        "import string\n",
        "from Sastrawi.Stemmer.StemmerFactory import StemmerFactory# create stemmer\n",
        "factory = StemmerFactory()\n",
        "stemmer = factory.create_stemmer()# stemming process\n",
        "# import StopWordRemoverFactory class\n",
        "from Sastrawi.StopWordRemover.StopWordRemoverFactory import StopWordRemoverFactory\n",
        "factory = StopWordRemoverFactory()\n",
        "stopword = factory.create_stop_word_remover()\n",
        "documents_clean=[]\n",
        "\n",
        "for d in datatw:\n",
        "\n",
        "    # Remove Unicode\n",
        "    document_test = re.sub(r'[^\\x00-\\x7F]+', ' ', d)\n",
        "    # Remove URL\n",
        "    document_test = re.sub(r'http\\S+', '', document_test)\n",
        "    # Remove Mentions\n",
        "    document_test = re.sub(r'@\\w+', '', document_test)\n",
        "    # Lowercase the document\n",
        "    document_test = document_test.lower()\n",
        "    # Remove punctuations\n",
        "    document_test = re.sub(r'[%s]' % re.escape(string.punctuation), ' ', document_test)\n",
        "    # Lowercase the numbers\n",
        "    document_test = re.sub(r'[0-9]', '', document_test)\n",
        "    # Remove the doubled space\n",
        "    outputstop = re.sub(r'\\s{2,}', ' ', document_test)\n",
        "\n",
        "    outputstem= stemmer.stem(d)\n",
        "    d= stopword.remove(outputstem)\n",
        "    documents_clean.append(outputstop)"
      ],
      "metadata": {
        "id": "Bwiuib-pb05I"
      },
      "execution_count": null,
      "outputs": []
    },
    {
      "cell_type": "code",
      "source": [
        "documents_clean[0:5]"
      ],
      "metadata": {
        "colab": {
          "base_uri": "https://localhost:8080/"
        },
        "id": "mhQTmjD8cioG",
        "outputId": "70bd69dc-8f9b-4297-81f8-00132ca0366f"
      },
      "execution_count": null,
      "outputs": [
        {
          "output_type": "execute_result",
          "data": {
            "text/plain": [
              "[' namanya juga orang sarap',\n",
              " ' dalam politik tidak ada jaminan untuk menjalankan janji contohnya baik pak jokowi amp pak prabowo ',\n",
              " ' kebutuhan akan talenta digital di indonesia masih tinggi dan dukungan berbagai pihak sangatlah penting ',\n",
              " ' nanti alasannya kan hir buatan kapir bang wkwkwkwkwkwkwk',\n",
              " ' egi sujana itu pembenci jokowi sejak pilpres dia dendam amp sakit hati sama jokowi karna kelompoknya kalah pilpres amp dari dia sering teriak people power dan melakukan segala cara untuk melengserkan jokowi di dia ditangkap dan jadi tersangka kasus makar']"
            ]
          },
          "metadata": {},
          "execution_count": 11
        }
      ]
    },
    {
      "cell_type": "code",
      "source": [
        "from sklearn.feature_extraction.text import TfidfVectorizer\n",
        "import pandas as pd\n",
        "tfidfvectorizer = TfidfVectorizer(analyzer='word')\n",
        "tfidf_wm = tfidfvectorizer.fit_transform(documents_clean)\n",
        "tfidf_tokens = tfidfvectorizer.get_feature_names()"
      ],
      "metadata": {
        "colab": {
          "base_uri": "https://localhost:8080/"
        },
        "id": "gj6z99ctcrqh",
        "outputId": "94f033ea-f546-43a8-edd4-1f8ee4300ec3"
      },
      "execution_count": null,
      "outputs": [
        {
          "output_type": "stream",
          "name": "stderr",
          "text": [
            "/usr/local/lib/python3.7/dist-packages/sklearn/utils/deprecation.py:87: FutureWarning: Function get_feature_names is deprecated; get_feature_names is deprecated in 1.0 and will be removed in 1.2. Please use get_feature_names_out instead.\n",
            "  warnings.warn(msg, category=FutureWarning)\n"
          ]
        }
      ]
    },
    {
      "cell_type": "code",
      "source": [
        "from sklearn.feature_extraction.text import CountVectorizer \n",
        "import matplotlib.pyplot as plt\n",
        "import numpy as np # linear algebra\n",
        "import pandas as pd # data processing, CSV file I/O (e.g. pd.read_csv)\n",
        "cv = CountVectorizer()\n",
        "words = cv.fit_transform(documents_clean)\n",
        "sum_words = words.sum(axis=0)\n",
        "\n",
        "\n",
        "words_freq = [(word, sum_words[0, idx]) for word, idx in cv.vocabulary_.items()]\n",
        "words_freq = sorted(words_freq, key = lambda x: x[1], reverse = True)\n",
        "frequency = pd.DataFrame(words_freq, columns=['word', 'freq'])\n",
        "\n",
        "color = plt.cm.twilight(np.linspace(0, 1, 20))\n",
        "frequency.head(20).plot(x='word', y='freq', kind='bar', figsize=(15, 7), color = color)\n",
        "plt.title(\"Most Frequently Occuring Words - Top 20\")"
      ],
      "metadata": {
        "colab": {
          "base_uri": "https://localhost:8080/",
          "height": 509
        },
        "id": "jfNpEPGlc0_r",
        "outputId": "43bb5408-18c6-42b1-d03b-85bd98b3ea93"
      },
      "execution_count": null,
      "outputs": [
        {
          "output_type": "execute_result",
          "data": {
            "text/plain": [
              "Text(0.5, 1.0, 'Most Frequently Occuring Words - Top 20')"
            ]
          },
          "metadata": {},
          "execution_count": 13
        },
        {
          "output_type": "display_data",
          "data": {
            "text/plain": [
              "<Figure size 1080x504 with 1 Axes>"
            ],
            "image/png": "[encoded data removed]"
          },
          "metadata": {
            "needs_background": "light"
          }
        }
      ]
    },
    {
      "cell_type": "code",
      "source": [
        "from sklearn.cluster import KMeans\n",
        "true_k = 3\n",
        "model = KMeans(n_clusters=true_k, init='k-means++', max_iter=100, n_init=1)\n",
        "model.fit(words)"
      ],
      "metadata": {
        "colab": {
          "base_uri": "https://localhost:8080/"
        },
        "id": "gJ2pLr8wlPVk",
        "outputId": "8ca4f5d6-6c47-40f6-bf0f-3428a19fbc0e"
      },
      "execution_count": 14,
      "outputs": [
        {
          "output_type": "execute_result",
          "data": {
            "text/plain": [
              "KMeans(max_iter=100, n_clusters=3, n_init=1)"
            ]
          },
          "metadata": {},
          "execution_count": 14
        }
      ]
    },
    {
      "cell_type": "code",
      "source": [
        "order_centroids = model.cluster_centers_.argsort()[:, ::-1]\n",
        "terms = cv.get_feature_names()\n",
        "\n",
        "for i in range(true_k):\n",
        "    print(\"Cluster %d:\" % i),\n",
        "    for ind in order_centroids[i, :10]:\n",
        "        print(' %s' % terms[ind]),\n",
        "    print\n",
        "\n",
        "print(\"\\n\")"
      ],
      "metadata": {
        "colab": {
          "base_uri": "https://localhost:8080/"
        },
        "id": "_R426yTllZWu",
        "outputId": "a7223e55-f30d-4c1e-fb79-dbbdb678ac12"
      },
      "execution_count": 15,
      "outputs": [
        {
          "output_type": "stream",
          "name": "stdout",
          "text": [
            "Cluster 0:\n",
            " aamiin\n",
            " walafiat\n",
            " sukses\n",
            " kaban\n",
            " slmt\n",
            " sht\n",
            " semoga\n",
            " pendampingdesainspiratif\n",
            " selalu\n",
            " tppjawatimur\n",
            "Cluster 1:\n",
            " jokowi\n",
            " di\n",
            " yg\n",
            " yang\n",
            " pak\n",
            " presiden\n",
            " itu\n",
            " ada\n",
            " ini\n",
            " dan\n",
            "Cluster 2:\n",
            " jokowi\n",
            " dia\n",
            " dan\n",
            " baik\n",
            " pilpres\n",
            " amp\n",
            " akan\n",
            " saya\n",
            " di\n",
            " people\n",
            "\n",
            "\n"
          ]
        },
        {
          "output_type": "stream",
          "name": "stderr",
          "text": [
            "/usr/local/lib/python3.7/dist-packages/sklearn/utils/deprecation.py:87: FutureWarning: Function get_feature_names is deprecated; get_feature_names is deprecated in 1.0 and will be removed in 1.2. Please use get_feature_names_out instead.\n",
            "  warnings.warn(msg, category=FutureWarning)\n"
          ]
        }
      ]
    },
    {
      "cell_type": "code",
      "source": [
        "print(\"Prediction\")\n",
        "Y = cv.transform([\"piala dunia\"])\n",
        "prediction = model.predict(Y)\n",
        "print(\"Cluster number :\", prediction)\n",
        "Y = cv.transform([\"ronaldo\"])\n",
        "prediction = model.predict(Y)\n",
        "print(\"Cluster number :\", prediction)"
      ],
      "metadata": {
        "colab": {
          "base_uri": "https://localhost:8080/"
        },
        "id": "TQ7MMNGYldG4",
        "outputId": "ae5254c4-3557-4ec1-b1ff-91e8f508c987"
      },
      "execution_count": 16,
      "outputs": [
        {
          "output_type": "stream",
          "name": "stdout",
          "text": [
            "Prediction\n",
            "Cluster number : [1]\n",
            "Cluster number : [1]\n"
          ]
        }
      ]
    },
    {
      "cell_type": "code",
      "source": [
        "import scipy.cluster.hierarchy as sch\n",
        "X = cv.fit_transform(documents_clean).todense()\n",
        "dendrogram = sch.dendrogram(sch.linkage(X, method = 'ward',metric='euclidean'),orientation=\"top\")\n",
        "plt.title('Dendrogram')\n",
        "plt.xlabel('Jarak Ward')\n",
        "plt.ylabel('Nomor Dokumen')\n",
        "plt.show()"
      ],
      "metadata": {
        "colab": {
          "base_uri": "https://localhost:8080/",
          "height": 293
        },
        "id": "0bOo22iwllf7",
        "outputId": "7e6f85f5-5101-46ae-b10c-f9c6eadbefe4"
      },
      "execution_count": 17,
      "outputs": [
        {
          "output_type": "display_data",
          "data": {
            "text/plain": [
              "<Figure size 432x288 with 1 Axes>"
            ],
            "image/png": "[encoded data removed]"
          },
          "metadata": {
            "needs_background": "light"
          }
        }
      ]
    },
    {
      "cell_type": "code",
      "source": [
        "import scipy.cluster.hierarchy as sch\n",
        "X = cv.fit_transform(documents_clean).todense()\n",
        "dendrogram = sch.dendrogram(sch.linkage(X, method = 'average',metric='euclidean'),orientation=\"right\")\n",
        "plt.title('Dendrogram')\n",
        "plt.xlabel('Jarak Rerata')\n",
        "plt.ylabel('Nomor Dokumen')\n",
        "plt.show()"
      ],
      "metadata": {
        "colab": {
          "base_uri": "https://localhost:8080/",
          "height": 295
        },
        "id": "DaUVa-HplyhG",
        "outputId": "75aa0272-0ae6-47c4-8f98-b7da35609480"
      },
      "execution_count": 18,
      "outputs": [
        {
          "output_type": "display_data",
          "data": {
            "text/plain": [
              "<Figure size 432x288 with 1 Axes>"
            ],
            "image/png": "[encoded data removed]"
          },
          "metadata": {
            "needs_background": "light"
          }
        }
      ]
    },
    {
      "cell_type": "code",
      "source": [
        "from sklearn.cluster import AgglomerativeClustering\n",
        "\n",
        "cluster = AgglomerativeClustering(n_clusters=6, affinity='euclidean', linkage='ward')  \n",
        "cluster.fit_predict(X) \n",
        "print(cluster.labels_)"
      ],
      "metadata": {
        "colab": {
          "base_uri": "https://localhost:8080/"
        },
        "id": "Q6cgo4B1l2sC",
        "outputId": "7d624c85-2bc6-46eb-f7d9-134264cb9c03"
      },
      "execution_count": 19,
      "outputs": [
        {
          "output_type": "stream",
          "name": "stdout",
          "text": [
            "[0 0 0 0 4 2 0 0 0 0 0 0 0 0 0 0 0 0 0 0 0 0 1 0 0 0 0 3 2 0 0 0 0 0 0 0 0\n",
            " 0 0 0 0 0 0 0 0 0 0 0 0 0 0 0 0 0 0 0 0 0 0 1 0 0 0 0 0 0 0 0 0 0 1 0 0 0\n",
            " 0 5]\n"
          ]
        },
        {
          "output_type": "stream",
          "name": "stderr",
          "text": [
            "/usr/local/lib/python3.7/dist-packages/sklearn/utils/validation.py:598: FutureWarning: np.matrix usage is deprecated in 1.0 and will raise a TypeError in 1.2. Please convert to a numpy array with np.asarray. For more information see: https://numpy.org/doc/stable/reference/generated/numpy.matrix.html\n",
            "  FutureWarning,\n"
          ]
        }
      ]
    },
    {
      "cell_type": "code",
      "source": [
        "from scipy.cluster.hierarchy import dendrogram, linkage\n",
        "from matplotlib import pyplot as plt\n",
        "\n",
        "linked = linkage(X, 'single')\n",
        "\n",
        "labelList = range(0, len(cluster.labels_))\n",
        "\n",
        "plt.figure(figsize=(10, 7))\n",
        "dendrogram(linked,\n",
        "            orientation='top',\n",
        "            labels=labelList,\n",
        "            distance_sort='descending',\n",
        "            show_leaf_counts=True)\n",
        "plt.show()"
      ],
      "metadata": {
        "colab": {
          "base_uri": "https://localhost:8080/",
          "height": 426
        },
        "id": "blHyqTRImDJT",
        "outputId": "b4953e02-5460-4dd2-c0cc-472eee940a95"
      },
      "execution_count": 20,
      "outputs": [
        {
          "output_type": "display_data",
          "data": {
            "text/plain": [
              "<Figure size 720x504 with 1 Axes>"
            ],
            "image/png": "[encoded data removed]"
          },
          "metadata": {
            "needs_background": "light"
          }
        }
      ]
    },
    {
      "cell_type": "code",
      "source": [
        "from scipy.cluster.hierarchy import dendrogram, linkage\n",
        "from matplotlib import pyplot as plt\n",
        "\n",
        "linked = linkage(X, 'average')\n",
        "\n",
        "labelList = range(0, len(cluster.labels_))\n",
        "\n",
        "plt.figure(figsize=(10, 7))\n",
        "dendrogram(linked,\n",
        "            orientation='top',\n",
        "            labels=labelList,\n",
        "            distance_sort='descending',\n",
        "            show_leaf_counts=True);\n",
        "plt.show()"
      ],
      "metadata": {
        "colab": {
          "base_uri": "https://localhost:8080/",
          "height": 426
        },
        "id": "Vb6WBcoAmKBk",
        "outputId": "e7c57775-036f-4157-de32-97b11868fd94"
      },
      "execution_count": 21,
      "outputs": [
        {
          "output_type": "display_data",
          "data": {
            "text/plain": [
              "<Figure size 720x504 with 1 Axes>"
            ],
            "image/png": "[encoded data removed]"
          },
          "metadata": {
            "needs_background": "light"
          }
        }
      ]
    }
  ]
}
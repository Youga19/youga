{
  "nbformat": 4,
  "nbformat_minor": 0,
  "metadata": {
    "colab": {
      "provenance": [],
      "collapsed_sections": [],
      "authorship_tag": "ABX9TyMw7Kx3UqV0hPEWYLw7oUdK",
      "include_colab_link": true
    },
    "kernelspec": {
      "name": "python3",
      "display_name": "Python 3"
    },
    "language_info": {
      "name": "python"
    }
  },
  "cells": [
    {
      "cell_type": "markdown",
      "metadata": {
        "id": "view-in-github",
        "colab_type": "text"
      },
      "source": [
        "<a href=\"https://colab.research.google.com/github/Youga19/youga/blob/main/Untitled4.ipynb\" target=\"_parent\"><img src=\"https://colab.research.google.com/assets/colab-badge.svg\" alt=\"Open In Colab\"/></a>"
      ]
    },
    {
      "cell_type": "code",
      "execution_count": 7,
      "metadata": {
        "colab": {
          "base_uri": "https://localhost:8080/"
        },
        "id": "JG9eKQw8oEz1",
        "outputId": "97a23fa4-4d28-4516-cafc-626dc9c09e0a"
      },
      "outputs": [
        {
          "output_type": "stream",
          "name": "stdout",
          "text": [
            "Looking in indexes: https://pypi.org/simple, https://us-python.pkg.dev/colab-wheels/public/simple/\n",
            "Requirement already satisfied: google-search-results in /usr/local/lib/python3.7/dist-packages (2.4.1)\n",
            "Requirement already satisfied: requests in /usr/local/lib/python3.7/dist-packages (from google-search-results) (2.23.0)\n",
            "Requirement already satisfied: urllib3!=1.25.0,!=1.25.1,<1.26,>=1.21.1 in /usr/local/lib/python3.7/dist-packages (from requests->google-search-results) (1.24.3)\n",
            "Requirement already satisfied: chardet<4,>=3.0.2 in /usr/local/lib/python3.7/dist-packages (from requests->google-search-results) (3.0.4)\n",
            "Requirement already satisfied: idna<3,>=2.5 in /usr/local/lib/python3.7/dist-packages (from requests->google-search-results) (2.10)\n",
            "Requirement already satisfied: certifi>=2017.4.17 in /usr/local/lib/python3.7/dist-packages (from requests->google-search-results) (2022.9.24)\n"
          ]
        }
      ],
      "source": [
        "!pip install google-search-results"
      ]
    },
    {
      "cell_type": "code",
      "source": [
        "from serpapi import GoogleSearch\n",
        "\n",
        "params = {\n",
        "  \"engine\": \"google_maps\",\n",
        "  \"q\": \"pizza\",\n",
        "  \"ll\": \"@40.7455096,-74.0083012,15.1z\",\n",
        "  \"type\": \"search\",\n",
        "  \"api_key\": \"92453dc1693c746d7c220b59083e2b163ae3c4ec49b37b17095b4441aada11c5\"\n",
        "}\n",
        "\n",
        "search = GoogleSearch(params)\n",
        "results = search.get_dict()\n",
        "local_results = results[\"local_results\"]"
      ],
      "metadata": {
        "colab": {
          "base_uri": "https://localhost:8080/"
        },
        "id": "9jjlxTjLoLM8",
        "outputId": "7cfc623b-1a85-48d4-e9f2-e291769a2b1d"
      },
      "execution_count": 10,
      "outputs": [
        {
          "output_type": "stream",
          "name": "stdout",
          "text": [
            "https://serpapi.com/search\n"
          ]
        }
      ]
    },
    {
      "cell_type": "code",
      "source": [
        "results"
      ],
      "metadata": {
        "colab": {
          "base_uri": "https://localhost:8080/"
        },
        "id": "v49gKdtgoQqL",
        "outputId": "513a7a01-974d-4f13-93c8-19e11e5500a2"
      },
      "execution_count": 11,
      "outputs": [
        {
          "output_type": "execute_result",
          "data": {
            "text/plain": [
              "{'search_metadata': {'id': '6343fe58216a9d03b2c57944',\n",
              "  'status': 'Success',\n",
              "  'json_endpoint': 'https://serpapi.com/searches/8bf5605f78b72b81/6343fe58216a9d03b2c57944.json',\n",
              "  'created_at': '2022-10-10 11:13:28 UTC',\n",
              "  'processed_at': '2022-10-10 11:13:28 UTC',\n",
              "  'google_maps_url': 'https://www.google.com/maps/search/pizza/@40.7455096,-74.0083012,15.1z?hl=en',\n",
              "  'raw_html_file': 'https://serpapi.com/searches/fc534edb03d7d5f8/6343fe58216a9d03b2c57944.html',\n",
              "  'total_time_taken': 1.04},\n",
              " 'search_parameters': {'engine': 'google_maps',\n",
              "  'type': 'search',\n",
              "  'q': 'pizza',\n",
              "  'll': '@40.7455096,-74.0083012,15.1z',\n",
              "  'google_domain': 'google.com',\n",
              "  'hl': 'en'},\n",
              " 'search_information': {'local_results_state': 'Results for exact spelling',\n",
              "  'query_displayed': 'pizza'},\n",
              " 'local_results': [{'position': 1,\n",
              "   'title': '10th Avenue Pizza & Cafe',\n",
              "   'place_id': 'ChIJJ07QdrdZwokRXdz8zv2_eg4',\n",
              "   'data_id': '0x89c259b776d04e27:0xe7abffdcefcdc5d',\n",
              "   'data_cid': '1043357360510000221',\n",
              "   'reviews_link': 'https://serpapi.com/search.json?data_id=0x89c259b776d04e27%3A0xe7abffdcefcdc5d&engine=google_maps_reviews&hl=en',\n",
              "   'photos_link': 'https://serpapi.com/search.json?data_id=0x89c259b776d04e27%3A0xe7abffdcefcdc5d&engine=google_maps_photos&hl=en',\n",
              "   'gps_coordinates': {'latitude': 40.748751299999995,\n",
              "    'longitude': -74.00312009999999},\n",
              "   'place_id_search': 'https://serpapi.com/search.json?data=%214m5%213m4%211s0x89c259b776d04e27%3A0xe7abffdcefcdc5d%218m2%213d40.748751299999995%214d-74.00312009999999&engine=google_maps&google_domain=google.com&hl=en&type=place',\n",
              "   'rating': 4.4,\n",
              "   'reviews': 169,\n",
              "   'price': '$',\n",
              "   'type': 'Pizza restaurant',\n",
              "   'address': '256 10th Ave, New York, NY 10001',\n",
              "   'open_state': 'Open ⋅ Closes 10PM',\n",
              "   'hours': 'Open ⋅ Closes 10PM',\n",
              "   'operating_hours': {'monday': '6AM–10PM',\n",
              "    'tuesday': '6AM–10PM',\n",
              "    'wednesday': '6AM–10PM',\n",
              "    'thursday': '6AM–10PM',\n",
              "    'friday': '6AM–10PM',\n",
              "    'saturday': '7AM–9PM',\n",
              "    'sunday': '9AM–8PM'},\n",
              "   'phone': '(212) 366-9222',\n",
              "   'website': 'https://www.10thavenuepizza.com/',\n",
              "   'description': 'Pizzeria/bakery & deli. Savory Italian dishes & sweet baked goods are available at this 1-menu-fits-all coffee shop.',\n",
              "   'service_options': {'dine_in': True,\n",
              "    'takeout': True,\n",
              "    'no_contact_delivery': True},\n",
              "   'thumbnail': 'https://lh5.googleusercontent.com/p/AF1QipNozG_QHyTw1Go5UDr04ZAMJEs-rEe7-9a9IcPk=w127-h92-k-no'},\n",
              "  {'position': 2,\n",
              "   'title': '2 Bros Pizza',\n",
              "   'place_id': 'ChIJPRdZtlJYwokRQhH8ZKfvI1w',\n",
              "   'data_id': '0x89c25852b659173d:0x5c23efa764fc1142',\n",
              "   'data_cid': '6639413777907061058',\n",
              "   'reviews_link': 'https://serpapi.com/search.json?data_id=0x89c25852b659173d%3A0x5c23efa764fc1142&engine=google_maps_reviews&hl=en',\n",
              "   'photos_link': 'https://serpapi.com/search.json?data_id=0x89c25852b659173d%3A0x5c23efa764fc1142&engine=google_maps_photos&hl=en',\n",
              "   'gps_coordinates': {'latitude': 40.7569851, 'longitude': -73.9934482},\n",
              "   'place_id_search': 'https://serpapi.com/search.json?data=%214m5%213m4%211s0x89c25852b659173d%3A0x5c23efa764fc1142%218m2%213d40.7569851%214d-73.9934482&engine=google_maps&google_domain=google.com&hl=en&type=place',\n",
              "   'rating': 4.3,\n",
              "   'reviews': 1686,\n",
              "   'price': '$',\n",
              "   'type': 'Pizza restaurant',\n",
              "   'address': '542 9th Ave, New York, NY 10018',\n",
              "   'open_state': 'Closed ⋅ Opens 10:30AM',\n",
              "   'hours': 'Closed ⋅ Opens 10:30AM',\n",
              "   'operating_hours': {'monday': '10:30AM–11PM',\n",
              "    'tuesday': '10:30AM–11PM',\n",
              "    'wednesday': '10:30AM–11PM',\n",
              "    'thursday': '10:30AM–11PM',\n",
              "    'friday': '10:30AM–11PM',\n",
              "    'saturday': '10:30AM–11PM',\n",
              "    'sunday': '10:30AM–11PM'},\n",
              "   'phone': '(212) 695-2642',\n",
              "   'website': 'https://www.2brospizzanewyork.com/?utm_source=gbp',\n",
              "   'description': 'Quick stop for slices & whole pies. NYC-based chain dishing up pizza by the slice & whole pies in bare-bones environs.',\n",
              "   'service_options': {'dine_in': True,\n",
              "    'takeout': True,\n",
              "    'no_contact_delivery': True},\n",
              "   'thumbnail': 'https://lh5.googleusercontent.com/p/AF1QipOyh4Hh2GK3R4lniu5L6Xuv0bQa5qkybSnRLY6A=w138-h92-k-no'},\n",
              "  {'position': 3,\n",
              "   'title': 'New Times Square Pizza LLC',\n",
              "   'place_id': 'ChIJB4RvZFxZwokRcicdjOa6j6E',\n",
              "   'data_id': '0x89c2595c646f8407:0xa18fbae68c1d2772',\n",
              "   'data_cid': '11641729061131986802',\n",
              "   'reviews_link': 'https://serpapi.com/search.json?data_id=0x89c2595c646f8407%3A0xa18fbae68c1d2772&engine=google_maps_reviews&hl=en',\n",
              "   'photos_link': 'https://serpapi.com/search.json?data_id=0x89c2595c646f8407%3A0xa18fbae68c1d2772&engine=google_maps_photos&hl=en',\n",
              "   'gps_coordinates': {'latitude': 40.755173, 'longitude': -73.98932959999999},\n",
              "   'place_id_search': 'https://serpapi.com/search.json?data=%214m5%213m4%211s0x89c2595c646f8407%3A0xa18fbae68c1d2772%218m2%213d40.755173%214d-73.98932959999999&engine=google_maps&google_domain=google.com&hl=en&type=place',\n",
              "   'rating': 4.1,\n",
              "   'reviews': 116,\n",
              "   'type': 'Pizza restaurant',\n",
              "   'address': '236 W 40th St, New York, NY 10018',\n",
              "   'open_state': 'Closed ⋅ Opens 9AM',\n",
              "   'hours': 'Closed ⋅ Opens 9AM',\n",
              "   'operating_hours': {'monday': '9AM–2AM',\n",
              "    'tuesday': '9AM–2AM',\n",
              "    'wednesday': '9AM–2AM',\n",
              "    'thursday': '9AM–2AM',\n",
              "    'friday': '9AM–2AM',\n",
              "    'saturday': '9AM–2AM',\n",
              "    'sunday': '9AM–2AM'},\n",
              "   'phone': '(212) 229-1222',\n",
              "   'website': 'https://www.newtimessquarepizza.com/?utm_source=gbp',\n",
              "   'description': 'Snug take-out for classic slices & pies. Tiny counter-serve operation offering pizza with classic toppings, by the slice or pie.',\n",
              "   'service_options': {'dine_in': True,\n",
              "    'curbside_pickup': True,\n",
              "    'no_contact_delivery': True},\n",
              "   'thumbnail': 'https://lh5.googleusercontent.com/p/AF1QipPQ1tq5Ex8KnbH2he7VnP9yXxnEB8DUwrhGEqfU=w138-h92-k-no'},\n",
              "  {'position': 4,\n",
              "   'title': 'PIZZA SHOP',\n",
              "   'place_id': 'ChIJdU3dCtBZwokRHUhkBTvXFF0',\n",
              "   'data_id': '0x89c259d00add4d75:0x5d14d73b0564481d',\n",
              "   'data_cid': '6707222393555011613',\n",
              "   'reviews_link': 'https://serpapi.com/search.json?data_id=0x89c259d00add4d75%3A0x5d14d73b0564481d&engine=google_maps_reviews&hl=en',\n",
              "   'photos_link': 'https://serpapi.com/search.json?data_id=0x89c259d00add4d75%3A0x5d14d73b0564481d&engine=google_maps_photos&hl=en',\n",
              "   'gps_coordinates': {'latitude': 40.751366, 'longitude': -73.9889008},\n",
              "   'place_id_search': 'https://serpapi.com/search.json?data=%214m5%213m4%211s0x89c259d00add4d75%3A0x5d14d73b0564481d%218m2%213d40.751366%214d-73.9889008&engine=google_maps&google_domain=google.com&hl=en&type=place',\n",
              "   'rating': 4.7,\n",
              "   'reviews': 44,\n",
              "   'price': '$',\n",
              "   'type': 'Pizza restaurant',\n",
              "   'address': '147 W 35th St, New York, NY 10001',\n",
              "   'open_state': 'Closed ⋅ Opens 8AM',\n",
              "   'hours': 'Closed ⋅ Opens 8AM',\n",
              "   'operating_hours': {'monday': '8AM–9PM',\n",
              "    'tuesday': '8AM–9PM',\n",
              "    'wednesday': '8AM–9PM',\n",
              "    'thursday': '8AM–9PM',\n",
              "    'friday': '8AM–9PM',\n",
              "    'saturday': '9AM–9PM',\n",
              "    'sunday': '9AM–9PM'},\n",
              "   'phone': '(212) 706-2172',\n",
              "   'website': 'http://pizzashopnewyork.com/?utm_source=gbp',\n",
              "   'service_options': {'dine_in': True,\n",
              "    'curbside_pickup': True,\n",
              "    'delivery': True},\n",
              "   'thumbnail': 'https://lh5.googleusercontent.com/p/AF1QipMv3qXMDxykTQzL4xiyR5GiwEkMAgww58ecsRZC=w115-h92-k-no'},\n",
              "  {'position': 5,\n",
              "   'title': \"Rosa's Pizza\",\n",
              "   'place_id': 'ChIJp8CXnK5ZwokRY61csxtqUwM',\n",
              "   'data_id': '0x89c259ae9c97c0a7:0x3536a1bb35cad63',\n",
              "   'data_cid': '239651872386624867',\n",
              "   'reviews_link': 'https://serpapi.com/search.json?data_id=0x89c259ae9c97c0a7%3A0x3536a1bb35cad63&engine=google_maps_reviews&hl=en',\n",
              "   'photos_link': 'https://serpapi.com/search.json?data_id=0x89c259ae9c97c0a7%3A0x3536a1bb35cad63&engine=google_maps_photos&hl=en',\n",
              "   'gps_coordinates': {'latitude': 40.7504175, 'longitude': -73.9907092},\n",
              "   'place_id_search': 'https://serpapi.com/search.json?data=%214m5%213m4%211s0x89c259ae9c97c0a7%3A0x3536a1bb35cad63%218m2%213d40.7504175%214d-73.9907092&engine=google_maps&google_domain=google.com&hl=en&type=place',\n",
              "   'rating': 4.1,\n",
              "   'reviews': 531,\n",
              "   'price': '$',\n",
              "   'type': 'Pizza restaurant',\n",
              "   'address': '425 7th Ave, New York, NY 10001',\n",
              "   'open_state': 'Closed ⋅ Opens 10AM',\n",
              "   'hours': 'Closed ⋅ Opens 10AM',\n",
              "   'operating_hours': {'monday': '10AM–3:45AM',\n",
              "    'tuesday': '10AM–3:45AM',\n",
              "    'wednesday': '10AM–3:45AM',\n",
              "    'thursday': '10AM–3:45AM',\n",
              "    'friday': '10AM–3:45AM',\n",
              "    'saturday': '10AM–3:45AM',\n",
              "    'sunday': '10AM–3:45AM'},\n",
              "   'phone': '(646) 998-3044',\n",
              "   'website': 'http://rosaspizzanewyork.com/?utm_source=gbp',\n",
              "   'description': \"Penn Station slice joint. Counter spot serving basic pizza & cheap beer on Penn Station's Long Island Rail Road level.\",\n",
              "   'service_options': {'dine_in': True,\n",
              "    'takeout': True,\n",
              "    'no_contact_delivery': True},\n",
              "   'editorial_reviews': {'summary': 'Celebrate National Pizza Day with a rundown of NYC’s great slice spots',\n",
              "    'link': 'https://www.amny.com/eat-and-drink/celebrate-national-pizza-day-with-a-rundown-of-nycs-great-slice-spots/',\n",
              "    'thumbnail': '//www.google.com/s2/favicons?domain=www.amny.com&sz=16'},\n",
              "   'thumbnail': 'https://lh5.googleusercontent.com/p/AF1QipOa4rmkhE14tkaIBsfAD1Nvc7arBvSXSgOgLm10=w138-h92-k-no'},\n",
              "  {'position': 6,\n",
              "   'title': 'Highline Pizzeria',\n",
              "   'place_id': 'ChIJ5aPE57ZZwokR12NpTU32v0g',\n",
              "   'data_id': '0x89c259b6e7c4a3e5:0x48bff64d4d6963d7',\n",
              "   'data_cid': '5242179303154213847',\n",
              "   'reviews_link': 'https://serpapi.com/search.json?data_id=0x89c259b6e7c4a3e5%3A0x48bff64d4d6963d7&engine=google_maps_reviews&hl=en',\n",
              "   'photos_link': 'https://serpapi.com/search.json?data_id=0x89c259b6e7c4a3e5%3A0x48bff64d4d6963d7&engine=google_maps_photos&hl=en',\n",
              "   'gps_coordinates': {'latitude': 40.751094099999996,\n",
              "    'longitude': -74.00223059999999},\n",
              "   'place_id_search': 'https://serpapi.com/search.json?data=%214m5%213m4%211s0x89c259b6e7c4a3e5%3A0x48bff64d4d6963d7%218m2%213d40.751094099999996%214d-74.00223059999999&engine=google_maps&google_domain=google.com&hl=en&type=place',\n",
              "   'rating': 4.3,\n",
              "   'reviews': 632,\n",
              "   'price': '$',\n",
              "   'type': 'Pizza restaurant',\n",
              "   'address': '503 W 28th St, New York, NY 10001',\n",
              "   'open_state': 'Closed ⋅ Opens 10AM',\n",
              "   'hours': 'Closed ⋅ Opens 10AM',\n",
              "   'operating_hours': {'monday': '10AM–8:45PM',\n",
              "    'tuesday': '10AM–11:30PM',\n",
              "    'wednesday': '10AM–11:45PM',\n",
              "    'thursday': '10AM–1:45AM',\n",
              "    'friday': '10AM–3:45AM',\n",
              "    'saturday': '10AM–3:45AM',\n",
              "    'sunday': '10AM–9:45PM'},\n",
              "   'phone': '(212) 564-3330',\n",
              "   'website': 'https://highlinepizzeriamenu.com/?utm_source=gbp',\n",
              "   'description': 'Pies & subs for dine-in or delivery. Chill neighborhood parlor serving a menu of pies, calzones, subs & salads beneath the High Line.',\n",
              "   'service_options': {'dine_in': True,\n",
              "    'takeout': True,\n",
              "    'no_contact_delivery': True},\n",
              "   'thumbnail': 'https://lh5.googleusercontent.com/p/AF1QipMbA4tx39HD3yYB0WNOzLocRYN785ZqraKtmWvu=w122-h92-k-no'},\n",
              "  {'position': 7,\n",
              "   'title': 'Gotham Pizza',\n",
              "   'place_id': 'ChIJIVgHJblZwokRHKVVpVgM8Xk',\n",
              "   'data_id': '0x89c259b925075821:0x79f10c58a555a51c',\n",
              "   'data_cid': '8786817922847057180',\n",
              "   'reviews_link': 'https://serpapi.com/search.json?data_id=0x89c259b925075821%3A0x79f10c58a555a51c&engine=google_maps_reviews&hl=en',\n",
              "   'photos_link': 'https://serpapi.com/search.json?data_id=0x89c259b925075821%3A0x79f10c58a555a51c&engine=google_maps_photos&hl=en',\n",
              "   'gps_coordinates': {'latitude': 40.7438893, 'longitude': -74.003031},\n",
              "   'place_id_search': 'https://serpapi.com/search.json?data=%214m5%213m4%211s0x89c259b925075821%3A0x79f10c58a555a51c%218m2%213d40.7438893%214d-74.003031&engine=google_maps&google_domain=google.com&hl=en&type=place',\n",
              "   'rating': 4.2,\n",
              "   'reviews': 486,\n",
              "   'price': '$',\n",
              "   'unclaimed_listing': True,\n",
              "   'type': 'Pizza restaurant',\n",
              "   'address': '144 9th Ave, New York, NY 10011',\n",
              "   'open_state': 'Closed ⋅ Opens 10:45AM',\n",
              "   'hours': 'Closed ⋅ Opens 10:45AM',\n",
              "   'operating_hours': {'monday': '10:45AM–10PM',\n",
              "    'tuesday': '10:45AM–10PM',\n",
              "    'wednesday': '10:45AM–10PM',\n",
              "    'thursday': '10:45AM–10PM',\n",
              "    'friday': '10:45AM–10PM',\n",
              "    'saturday': '10:45AM–10PM',\n",
              "    'sunday': '10:45AM–10PM'},\n",
              "   'phone': '(212) 989-8858',\n",
              "   'website': 'https://www.ordergothampizzamenu.com/',\n",
              "   'description': 'Thin-crust pizza by the slice or pie. No-frills joint known for its thin, crispy cornmeal-crusted pizza sold by the slice or pie.',\n",
              "   'service_options': {'dine_in': True,\n",
              "    'takeout': True,\n",
              "    'no_contact_delivery': True},\n",
              "   'thumbnail': 'https://lh5.googleusercontent.com/p/AF1QipPcrSjNYVYKUAzr6ACDYTd3oldjfrI2JNUpvc4D=w163-h92-k-no'},\n",
              "  {'position': 8,\n",
              "   'title': 'NY Pizza Suprema',\n",
              "   'place_id': 'ChIJjaD94kFZwokR-20CXqlpy_4',\n",
              "   'data_id': '0x89c25941e2fda08d:0xfecb69a95e026dfb',\n",
              "   'data_cid': '18359884482053565947',\n",
              "   'reviews_link': 'https://serpapi.com/search.json?data_id=0x89c25941e2fda08d%3A0xfecb69a95e026dfb&engine=google_maps_reviews&hl=en',\n",
              "   'photos_link': 'https://serpapi.com/search.json?data_id=0x89c25941e2fda08d%3A0xfecb69a95e026dfb&engine=google_maps_photos&hl=en',\n",
              "   'gps_coordinates': {'latitude': 40.7501501, 'longitude': -73.9952496},\n",
              "   'place_id_search': 'https://serpapi.com/search.json?data=%214m5%213m4%211s0x89c25941e2fda08d%3A0xfecb69a95e026dfb%218m2%213d40.7501501%214d-73.9952496&engine=google_maps&google_domain=google.com&hl=en&type=place',\n",
              "   'rating': 4.6,\n",
              "   'reviews': 5386,\n",
              "   'price': '$',\n",
              "   'type': 'Pizza restaurant',\n",
              "   'address': '413 8th Ave, New York, NY 10001',\n",
              "   'open_state': 'Closed ⋅ Opens 10:30AM',\n",
              "   'hours': 'Closed ⋅ Opens 10:30AM',\n",
              "   'operating_hours': {'monday': '10:30AM–12AM',\n",
              "    'tuesday': '10:30AM–12AM',\n",
              "    'wednesday': '10:30AM–12AM',\n",
              "    'thursday': '10:30AM–12AM',\n",
              "    'friday': '10:30AM–12AM',\n",
              "    'saturday': '10:30AM–12AM',\n",
              "    'sunday': '10:30AM–12AM'},\n",
              "   'phone': '(212) 594-8939',\n",
              "   'website': 'http://nypizzasuprema.com/',\n",
              "   'description': 'Classic slices & pies. Long-standing Madison Square Garden-area staple offering pizzas whole & by the slice.',\n",
              "   'service_options': {'dine_in': True,\n",
              "    'takeout': True,\n",
              "    'no_contact_delivery': True},\n",
              "   'thumbnail': 'https://lh5.googleusercontent.com/p/AF1QipO4NrvMUZQ661YYBKMe-18hhOlfCP76CYqOfp6Z=w204-h92-k-no'},\n",
              "  {'position': 9,\n",
              "   'title': '&pizza - NoMad',\n",
              "   'place_id': 'ChIJsaYZEKZZwokRxICmrKSu8Pw',\n",
              "   'data_id': '0x89c259a61019a6b1:0xfcf0aea4aca680c4',\n",
              "   'data_cid': '18226259714262859972',\n",
              "   'reviews_link': 'https://serpapi.com/search.json?data_id=0x89c259a61019a6b1%3A0xfcf0aea4aca680c4&engine=google_maps_reviews&hl=en',\n",
              "   'photos_link': 'https://serpapi.com/search.json?data_id=0x89c259a61019a6b1%3A0xfcf0aea4aca680c4&engine=google_maps_photos&hl=en',\n",
              "   'gps_coordinates': {'latitude': 40.7452046, 'longitude': -73.9882314},\n",
              "   'place_id_search': 'https://serpapi.com/search.json?data=%214m5%213m4%211s0x89c259a61019a6b1%3A0xfcf0aea4aca680c4%218m2%213d40.7452046%214d-73.9882314&engine=google_maps&google_domain=google.com&hl=en&type=place',\n",
              "   'rating': 4.6,\n",
              "   'reviews': 1172,\n",
              "   'price': '$',\n",
              "   'type': 'Pizza restaurant',\n",
              "   'address': '15 W 28th St, New York, NY 10001',\n",
              "   'open_state': 'Closed ⋅ Opens 11AM',\n",
              "   'hours': 'Closed ⋅ Opens 11AM',\n",
              "   'operating_hours': {'monday': '11AM–10PM',\n",
              "    'tuesday': '11AM–10PM',\n",
              "    'wednesday': '11AM–10PM',\n",
              "    'thursday': '11AM–10PM',\n",
              "    'friday': '11AM–11PM',\n",
              "    'saturday': '11AM–11PM',\n",
              "    'sunday': '11AM–10PM'},\n",
              "   'phone': '(202) 335-5991',\n",
              "   'website': 'https://andpizza.com/locations/nomad/',\n",
              "   'description': 'Modern pizzeria for custom pies. Customers can choose their own dough, sauce & toppings at this contemporary pizza chain.',\n",
              "   'service_options': {'dine_in': True,\n",
              "    'takeout': True,\n",
              "    'no_contact_delivery': True},\n",
              "   'thumbnail': 'https://lh5.googleusercontent.com/p/AF1QipMR7ws_ZqJCy650LeC2ozIOOmOI7hb80tH0GfA9=w189-h92-k-no'},\n",
              "  {'position': 10,\n",
              "   'title': '99 CENT 4 BOY PIZZA',\n",
              "   'place_id': 'ChIJY2cXt-5ZwokRcL_azM1vWyQ',\n",
              "   'data_id': '0x89c259eeb7176763:0x245b6fcdccdabf70',\n",
              "   'data_cid': '2619810537941942128',\n",
              "   'reviews_link': 'https://serpapi.com/search.json?data_id=0x89c259eeb7176763%3A0x245b6fcdccdabf70&engine=google_maps_reviews&hl=en',\n",
              "   'photos_link': 'https://serpapi.com/search.json?data_id=0x89c259eeb7176763%3A0x245b6fcdccdabf70&engine=google_maps_photos&hl=en',\n",
              "   'gps_coordinates': {'latitude': 40.7498925, 'longitude': -73.9942793},\n",
              "   'place_id_search': 'https://serpapi.com/search.json?data=%214m5%213m4%211s0x89c259eeb7176763%3A0x245b6fcdccdabf70%218m2%213d40.7498925%214d-73.9942793&engine=google_maps&google_domain=google.com&hl=en&type=place',\n",
              "   'rating': 4.5,\n",
              "   'reviews': 71,\n",
              "   'type': 'Pizza restaurant',\n",
              "   'address': '252 W 31st St, New York, NY 10001',\n",
              "   'open_state': 'Closed ⋅ Opens 10AM',\n",
              "   'hours': 'Closed ⋅ Opens 10AM',\n",
              "   'operating_hours': {'monday': '10AM–4AM',\n",
              "    'tuesday': '10AM–4AM',\n",
              "    'wednesday': '10AM–4AM',\n",
              "    'thursday': '10AM–4AM',\n",
              "    'friday': '10AM–4AM',\n",
              "    'saturday': '10AM–4AM',\n",
              "    'sunday': '10AM–4AM'},\n",
              "   'phone': '(917) 261-5088',\n",
              "   'website': 'https://www.99cent4boypizza.com/',\n",
              "   'service_options': {'dine_in': True,\n",
              "    'drive_through': True,\n",
              "    'no_contact_delivery': True},\n",
              "   'thumbnail': 'https://lh5.googleusercontent.com/p/AF1QipNms-KQxOsM2DezRjUreKIicXaiesfZigYXg18p=w122-h92-k-no'},\n",
              "  {'position': 11,\n",
              "   'title': 'Made in New York Pizza',\n",
              "   'place_id': 'ChIJkfULrYJZwokRW4BTC1oIE-U',\n",
              "   'data_id': '0x89c25982ad0bf591:0xe513085a0b53805b',\n",
              "   'data_cid': '16506546242073100379',\n",
              "   'reviews_link': 'https://serpapi.com/search.json?data_id=0x89c25982ad0bf591%3A0xe513085a0b53805b&engine=google_maps_reviews&hl=en',\n",
              "   'photos_link': 'https://serpapi.com/search.json?data_id=0x89c25982ad0bf591%3A0xe513085a0b53805b&engine=google_maps_photos&hl=en',\n",
              "   'gps_coordinates': {'latitude': 40.7355509, 'longitude': -74.006236},\n",
              "   'place_id_search': 'https://serpapi.com/search.json?data=%214m5%213m4%211s0x89c25982ad0bf591%3A0xe513085a0b53805b%218m2%213d40.7355509%214d-74.006236&engine=google_maps&google_domain=google.com&hl=en&type=place',\n",
              "   'rating': 4.5,\n",
              "   'reviews': 42,\n",
              "   'price': '$',\n",
              "   'type': 'Pizza restaurant',\n",
              "   'address': '561 Hudson St, New York, NY 10014',\n",
              "   'open_state': 'Closed ⋅ Opens 11AM',\n",
              "   'hours': 'Closed ⋅ Opens 11AM',\n",
              "   'operating_hours': {'monday': '11AM–11PM',\n",
              "    'tuesday': '11AM–11PM',\n",
              "    'wednesday': '11AM–11PM',\n",
              "    'thursday': '11AM–2AM',\n",
              "    'friday': '11AM–2AM',\n",
              "    'saturday': '11AM–2AM',\n",
              "    'sunday': '11AM–11PM'},\n",
              "   'phone': '(646) 881-4200',\n",
              "   'website': 'https://www.madeinnewyorkpizza.com/',\n",
              "   'service_options': {'dine_in': True,\n",
              "    'takeout': True,\n",
              "    'no_contact_delivery': True},\n",
              "   'thumbnail': 'https://lh5.googleusercontent.com/p/AF1QipMGkk8tAr-MBtNfN1iJ2p-kKA06dGf-XO-Fc7fc=w163-h92-k-no'},\n",
              "  {'position': 12,\n",
              "   'title': 'Encore Pizza',\n",
              "   'place_id': 'ChIJMwMnogBZwokRTs-Fc5nYG-M',\n",
              "   'data_id': '0x89c25900a2270333:0xe31bd8997385cf4e',\n",
              "   'data_cid': '16364911824560574286',\n",
              "   'reviews_link': 'https://serpapi.com/search.json?data_id=0x89c25900a2270333%3A0xe31bd8997385cf4e&engine=google_maps_reviews&hl=en',\n",
              "   'photos_link': 'https://serpapi.com/search.json?data_id=0x89c25900a2270333%3A0xe31bd8997385cf4e&engine=google_maps_photos&hl=en',\n",
              "   'gps_coordinates': {'latitude': 40.7521463, 'longitude': -73.9878155},\n",
              "   'place_id_search': 'https://serpapi.com/search.json?data=%214m5%213m4%211s0x89c25900a2270333%3A0xe31bd8997385cf4e%218m2%213d40.7521463%214d-73.9878155&engine=google_maps&google_domain=google.com&hl=en&type=place',\n",
              "   'rating': 4.7,\n",
              "   'reviews': 173,\n",
              "   'price': '$$',\n",
              "   'type': 'Pizza restaurant',\n",
              "   'address': '1369 Broadway, New York, NY 10018',\n",
              "   'open_state': 'Closed ⋅ Opens 11AM',\n",
              "   'hours': 'Closed ⋅ Opens 11AM',\n",
              "   'operating_hours': {'monday': '11AM–9PM',\n",
              "    'tuesday': '11AM–9PM',\n",
              "    'wednesday': '11AM–9PM',\n",
              "    'thursday': '11AM–9PM',\n",
              "    'friday': '11AM–9PM',\n",
              "    'saturday': '11AM–9PM',\n",
              "    'sunday': '12–9PM'},\n",
              "   'phone': '(646) 370-5226',\n",
              "   'website': 'https://www.encorepizzamenu.com/',\n",
              "   'service_options': {'dine_in': True, 'takeout': True, 'delivery': True},\n",
              "   'thumbnail': 'https://lh5.googleusercontent.com/p/AF1QipP_nGsq7dCWhept3u1fJ3FV0yJYb8jalQHim3b5=w122-h92-k-no'},\n",
              "  {'position': 13,\n",
              "   'title': 'Upside Pizza',\n",
              "   'place_id': 'ChIJWR-VPPdZwokREIm6K9oanwA',\n",
              "   'data_id': '0x89c259f73c951f59:0x9f1ada2bba8910',\n",
              "   'data_cid': '44784045635832080',\n",
              "   'reviews_link': 'https://serpapi.com/search.json?data_id=0x89c259f73c951f59%3A0x9f1ada2bba8910&engine=google_maps_reviews&hl=en',\n",
              "   'photos_link': 'https://serpapi.com/search.json?data_id=0x89c259f73c951f59%3A0x9f1ada2bba8910&engine=google_maps_photos&hl=en',\n",
              "   'gps_coordinates': {'latitude': 40.7551355, 'longitude': -73.9910487},\n",
              "   'place_id_search': 'https://serpapi.com/search.json?data=%214m5%213m4%211s0x89c259f73c951f59%3A0x9f1ada2bba8910%218m2%213d40.7551355%214d-73.9910487&engine=google_maps&google_domain=google.com&hl=en&type=place',\n",
              "   'rating': 4.2,\n",
              "   'reviews': 777,\n",
              "   'price': '$',\n",
              "   'type': 'Pizza restaurant',\n",
              "   'address': '598 8th Ave, New York, NY 10018',\n",
              "   'open_state': 'Closed ⋅ Opens 11AM',\n",
              "   'hours': 'Closed ⋅ Opens 11AM',\n",
              "   'operating_hours': {'monday': '11AM–11PM',\n",
              "    'tuesday': '11AM–11PM',\n",
              "    'wednesday': '11AM–11PM',\n",
              "    'thursday': '11AM–2AM',\n",
              "    'friday': '11AM–3AM',\n",
              "    'saturday': '11AM–3AM',\n",
              "    'sunday': '11AM–11PM'},\n",
              "   'phone': '(646) 484-5244',\n",
              "   'website': 'https://www.upsidepizza.com/',\n",
              "   'description': \"Counter-serve pizza slices. '90s-inspired pizza slice specialist created by Roberta's alum with limited seating.\",\n",
              "   'service_options': {'dine_in': True, 'takeout': True, 'delivery': True},\n",
              "   'editorial_reviews': {'summary': 'The best pizza delivery in NYC',\n",
              "    'link': 'https://www.timeout.com/newyork/restaurants/best-pizza-delivery-in-nyc',\n",
              "    'thumbnail': '//www.google.com/s2/favicons?domain=www.timeout.com&sz=16'},\n",
              "   'thumbnail': 'https://lh5.googleusercontent.com/p/AF1QipNwIqpL_mpeK60CjZR6qZ05sb-LVgZ2BvhdNQsg=w122-h92-k-no'},\n",
              "  {'position': 14,\n",
              "   'title': \"Napoli's Pizza\",\n",
              "   'place_id': 'ChIJO9fmMthZwokRnlB0LHQ_3JE',\n",
              "   'data_id': '0x89c259d832e6d73b:0x91dc3f742c74509e',\n",
              "   'data_cid': '10510345398570471582',\n",
              "   'reviews_link': 'https://serpapi.com/search.json?data_id=0x89c259d832e6d73b%3A0x91dc3f742c74509e&engine=google_maps_reviews&hl=en',\n",
              "   'photos_link': 'https://serpapi.com/search.json?data_id=0x89c259d832e6d73b%3A0x91dc3f742c74509e&engine=google_maps_photos&hl=en',\n",
              "   'gps_coordinates': {'latitude': 40.7507429, 'longitude': -74.0271593},\n",
              "   'place_id_search': 'https://serpapi.com/search.json?data=%214m5%213m4%211s0x89c259d832e6d73b%3A0x91dc3f742c74509e%218m2%213d40.7507429%214d-74.0271593&engine=google_maps&google_domain=google.com&hl=en&type=place',\n",
              "   'rating': 4.3,\n",
              "   'reviews': 620,\n",
              "   'price': '$$',\n",
              "   'type': 'Pizza restaurant',\n",
              "   'address': '1118 Washington St, Hoboken, NJ 07030',\n",
              "   'open_state': 'Closed ⋅ Opens 11:30AM',\n",
              "   'hours': 'Closed ⋅ Opens 11:30AM',\n",
              "   'operating_hours': {'monday': '11:30AM–11PM',\n",
              "    'tuesday': '11:30AM–11PM',\n",
              "    'wednesday': '11:30AM–11PM',\n",
              "    'thursday': '11:30AM–11PM',\n",
              "    'friday': '11:30AM–12AM',\n",
              "    'saturday': '11:30AM–12AM',\n",
              "    'sunday': '11:30AM–11PM'},\n",
              "   'phone': '(201) 216-0900',\n",
              "   'website': 'http://napolishobokenpizza.com/',\n",
              "   'description': 'Brick-oven pies in a casual BYOB setup. Cozy BYOB outfit dishing up brick-oven Neapolitan pies plus classic Italian pastas, heroes & panini.',\n",
              "   'service_options': {'dine_in': True,\n",
              "    'curbside_pickup': True,\n",
              "    'no_contact_delivery': True},\n",
              "   'editorial_reviews': {'summary': 'A List of BYOB Spots in Hoboken + Jersey City',\n",
              "    'link': 'https://www.hobokengirl.com/byob-hoboken-jersey-city-bring-your-own-booze/',\n",
              "    'thumbnail': '//www.google.com/s2/favicons?domain=www.hobokengirl.com&sz=16'},\n",
              "   'thumbnail': 'https://lh5.googleusercontent.com/p/AF1QipP269Wc9e63vVY8p55mwfHUp_l5VlWB6VhM0YqI=w122-h92-k-no'},\n",
              "  {'position': 15,\n",
              "   'title': 'Bravo Pizza',\n",
              "   'place_id': 'ChIJ_050uq9ZwokRMGsTwRIZMpQ',\n",
              "   'data_id': '0x89c259afba744eff:0x94321912c1136b30',\n",
              "   'data_cid': '10678625234788248368',\n",
              "   'reviews_link': 'https://serpapi.com/search.json?data_id=0x89c259afba744eff%3A0x94321912c1136b30&engine=google_maps_reviews&hl=en',\n",
              "   'photos_link': 'https://serpapi.com/search.json?data_id=0x89c259afba744eff%3A0x94321912c1136b30&engine=google_maps_photos&hl=en',\n",
              "   'gps_coordinates': {'latitude': 40.748464, 'longitude': -73.992687},\n",
              "   'place_id_search': 'https://serpapi.com/search.json?data=%214m5%213m4%211s0x89c259afba744eff%3A0x94321912c1136b30%218m2%213d40.748464%214d-73.992687&engine=google_maps&google_domain=google.com&hl=en&type=place',\n",
              "   'rating': 4.2,\n",
              "   'reviews': 956,\n",
              "   'price': '$',\n",
              "   'unclaimed_listing': True,\n",
              "   'type': 'Pizza restaurant',\n",
              "   'address': '360 7th Ave #5011, New York, NY 10001',\n",
              "   'open_state': 'Closed ⋅ Opens 11AM',\n",
              "   'hours': 'Closed ⋅ Opens 11AM',\n",
              "   'operating_hours': {'monday': '11AM–11:30PM',\n",
              "    'tuesday': '11AM–11:30PM',\n",
              "    'wednesday': '11AM–11:30PM',\n",
              "    'thursday': '11AM–11:30PM',\n",
              "    'friday': '11AM–1:30AM',\n",
              "    'saturday': '11AM–1:30AM',\n",
              "    'sunday': '12–11:30PM'},\n",
              "   'phone': '(212) 235-1114',\n",
              "   'website': 'https://www.bravopizzany.com/',\n",
              "   'description': 'Straightforward Italian pizza counter. No-frills pizzeria turning out classic & creatively topped slices, plus Italian heroes & desserts.',\n",
              "   'service_options': {'dine_in': True,\n",
              "    'takeout': True,\n",
              "    'no_contact_delivery': True},\n",
              "   'thumbnail': 'https://lh5.googleusercontent.com/p/AF1QipPrxdqoW4l-E8frc2u2K0_-z2eb8uAJm2OlWO60=w122-h92-k-no'},\n",
              "  {'position': 16,\n",
              "   'title': 'Bravo Pizza',\n",
              "   'place_id': 'ChIJ8Qlx05hZwokRxyZ9vo5q1Tk',\n",
              "   'data_id': '0x89c25998d37109f1:0x39d56a8ebe7d26c7',\n",
              "   'data_cid': '4167354191515035335',\n",
              "   'reviews_link': 'https://serpapi.com/search.json?data_id=0x89c25998d37109f1%3A0x39d56a8ebe7d26c7&engine=google_maps_reviews&hl=en',\n",
              "   'photos_link': 'https://serpapi.com/search.json?data_id=0x89c25998d37109f1%3A0x39d56a8ebe7d26c7&engine=google_maps_photos&hl=en',\n",
              "   'gps_coordinates': {'latitude': 40.7342212, 'longitude': -73.9889546},\n",
              "   'place_id_search': 'https://serpapi.com/search.json?data=%214m5%213m4%211s0x89c25998d37109f1%3A0x39d56a8ebe7d26c7%218m2%213d40.7342212%214d-73.9889546&engine=google_maps&google_domain=google.com&hl=en&type=place',\n",
              "   'rating': 4,\n",
              "   'reviews': 398,\n",
              "   'price': '$$',\n",
              "   'type': 'Pizza restaurant',\n",
              "   'address': '115 E 14th St, New York, NY 10003',\n",
              "   'open_state': 'Closed ⋅ Opens 11AM',\n",
              "   'hours': 'Closed ⋅ Opens 11AM',\n",
              "   'operating_hours': {'monday': '11AM–12AM',\n",
              "    'tuesday': '11AM–12AM',\n",
              "    'wednesday': '11AM–12AM',\n",
              "    'thursday': '11AM–12AM',\n",
              "    'friday': '11AM–2AM',\n",
              "    'saturday': '11AM–2AM',\n",
              "    'sunday': '11AM–12AM'},\n",
              "   'phone': '(212) 253-2220',\n",
              "   'website': 'https://www.bravopizzaofnewyork.com/?utm_source=gbp',\n",
              "   'description': 'Basic, family-owned pizzeria. Unpretentious pizzeria dispensing a variety of classic pies & Italian comfort chow.',\n",
              "   'service_options': {'dine_in': True,\n",
              "    'takeout': True,\n",
              "    'no_contact_delivery': True},\n",
              "   'thumbnail': 'https://lh5.googleusercontent.com/p/AF1QipNZ3jCt1PNKdrYM2p41DK6RPJH82rPfxCrLn6Y=w189-h92-k-no'},\n",
              "  {'position': 17,\n",
              "   'title': 'Champion Pizza - 5th Ave',\n",
              "   'place_id': 'ChIJbxs3F5hZwokRy5HcA1IQx9s',\n",
              "   'data_id': '0x89c2599817371b6f:0xdbc7105203dc91cb',\n",
              "   'data_cid': '15836644559109788107',\n",
              "   'reviews_link': 'https://serpapi.com/search.json?data_id=0x89c2599817371b6f%3A0xdbc7105203dc91cb&engine=google_maps_reviews&hl=en',\n",
              "   'photos_link': 'https://serpapi.com/search.json?data_id=0x89c2599817371b6f%3A0xdbc7105203dc91cb&engine=google_maps_photos&hl=en',\n",
              "   'gps_coordinates': {'latitude': 40.7359258, 'longitude': -73.9939151},\n",
              "   'place_id_search': 'https://serpapi.com/search.json?data=%214m5%213m4%211s0x89c2599817371b6f%3A0xdbc7105203dc91cb%218m2%213d40.7359258%214d-73.9939151&engine=google_maps&google_domain=google.com&hl=en&type=place',\n",
              "   'rating': 4.2,\n",
              "   'reviews': 607,\n",
              "   'price': '$$',\n",
              "   'type': 'Pizza restaurant',\n",
              "   'address': '2 W 14th St, 5th Ave, New York, NY 10011',\n",
              "   'open_state': 'Closed ⋅ Opens 10AM',\n",
              "   'hours': 'Closed ⋅ Opens 10AM',\n",
              "   'operating_hours': {'monday': '10AM–2AM',\n",
              "    'tuesday': '10AM–2AM',\n",
              "    'wednesday': '10AM–2AM',\n",
              "    'thursday': '10AM–4AM',\n",
              "    'friday': '10AM–4AM',\n",
              "    'saturday': '10AM–4AM',\n",
              "    'sunday': '10AM–12AM'},\n",
              "   'phone': '(212) 898-9898',\n",
              "   'website': 'http://championpizzanyc.com/',\n",
              "   'description': 'Rustic setting for thin-crust pies. Laid-back joint prepping creative thin-crust pizzas in wood-accented digs with a hip vibe.',\n",
              "   'service_options': {'dine_in': True,\n",
              "    'curbside_pickup': True,\n",
              "    'no_contact_delivery': True},\n",
              "   'thumbnail': 'https://lh5.googleusercontent.com/p/AF1QipNTlPoLqLJ2Z4pdS7dzwyYsR2DiXKwHXmyrC585=w181-h92-k-no'},\n",
              "  {'position': 18,\n",
              "   'title': '2 Bros Pizza',\n",
              "   'place_id': 'ChIJ1x6n_axZwokRwVtestFkcV0',\n",
              "   'data_id': '0x89c259acfda71ed7:0x5d7164d1b25e5bc1',\n",
              "   'data_cid': '6733273769699072961',\n",
              "   'reviews_link': 'https://serpapi.com/search.json?data_id=0x89c259acfda71ed7%3A0x5d7164d1b25e5bc1&engine=google_maps_reviews&hl=en',\n",
              "   'photos_link': 'https://serpapi.com/search.json?data_id=0x89c259acfda71ed7%3A0x5d7164d1b25e5bc1&engine=google_maps_photos&hl=en',\n",
              "   'gps_coordinates': {'latitude': 40.7547065, 'longitude': -73.9918986},\n",
              "   'place_id_search': 'https://serpapi.com/search.json?data=%214m5%213m4%211s0x89c259acfda71ed7%3A0x5d7164d1b25e5bc1%218m2%213d40.7547065%214d-73.9918986&engine=google_maps&google_domain=google.com&hl=en&type=place',\n",
              "   'rating': 4.3,\n",
              "   'reviews': 3686,\n",
              "   'price': '$',\n",
              "   'type': 'Pizza restaurant',\n",
              "   'address': '557 8th Ave, New York, NY 10018',\n",
              "   'open_state': 'Closed ⋅ Opens 12PM',\n",
              "   'hours': 'Closed ⋅ Opens 12PM',\n",
              "   'operating_hours': {'monday': '12–8PM',\n",
              "    'tuesday': '12–8PM',\n",
              "    'wednesday': '12–8PM',\n",
              "    'thursday': '12–8PM',\n",
              "    'friday': '12–9PM',\n",
              "    'saturday': '12–9PM',\n",
              "    'sunday': '12–8PM'},\n",
              "   'phone': '(212) 239-1117',\n",
              "   'website': 'https://www.twobrospizzanewyork.com/?utm_source=gbp',\n",
              "   'description': 'Quick stop for slices & whole pies. NYC-based chain dishing up pizza by the slice & whole pies in bare-bones environs.',\n",
              "   'service_options': {'dine_in': True,\n",
              "    'takeout': True,\n",
              "    'no_contact_delivery': True},\n",
              "   'thumbnail': 'https://lh5.googleusercontent.com/p/AF1QipOL-cA2KwK8yTS6OTZz71l3TJ1FNlp9Z1KtcaV7=w122-h92-k-no'},\n",
              "  {'position': 19,\n",
              "   'title': '2 Bros. Pizza',\n",
              "   'place_id': 'ChIJfTX5qaVZwokRH8-1IyeBViY',\n",
              "   'data_id': '0x89c259a5a9f9357d:0x2656812723b5cf1f',\n",
              "   'data_cid': '2762537426541203231',\n",
              "   'reviews_link': 'https://serpapi.com/search.json?data_id=0x89c259a5a9f9357d%3A0x2656812723b5cf1f&engine=google_maps_reviews&hl=en',\n",
              "   'photos_link': 'https://serpapi.com/search.json?data_id=0x89c259a5a9f9357d%3A0x2656812723b5cf1f&engine=google_maps_photos&hl=en',\n",
              "   'gps_coordinates': {'latitude': 40.744337099999996,\n",
              "    'longitude': -73.9920054},\n",
              "   'place_id_search': 'https://serpapi.com/search.json?data=%214m5%213m4%211s0x89c259a5a9f9357d%3A0x2656812723b5cf1f%218m2%213d40.744337099999996%214d-73.9920054&engine=google_maps&google_domain=google.com&hl=en&type=place',\n",
              "   'rating': 4.2,\n",
              "   'reviews': 2130,\n",
              "   'price': '$',\n",
              "   'type': 'Pizza restaurant',\n",
              "   'address': '755 6th Ave, New York, NY 10010',\n",
              "   'open_state': 'Closed ⋅ Opens 11AM',\n",
              "   'hours': 'Closed ⋅ Opens 11AM',\n",
              "   'operating_hours': {'monday': '11AM–10:30PM',\n",
              "    'tuesday': '11AM–10:30PM',\n",
              "    'wednesday': '11AM–10:30PM',\n",
              "    'thursday': '11AM–10:30PM',\n",
              "    'friday': '11AM–10:30PM',\n",
              "    'saturday': '11AM–10:30PM',\n",
              "    'sunday': '10AM–10:30PM'},\n",
              "   'phone': '(212) 239-1117',\n",
              "   'website': 'https://www.twobrospizzamenu.com/?utm_source=gbp',\n",
              "   'description': 'Quick stop for slices & whole pies. NYC-based chain dishing up pizza by the slice & whole pies in bare-bones environs.',\n",
              "   'service_options': {'dine_in': True,\n",
              "    'takeout': True,\n",
              "    'no_contact_delivery': True},\n",
              "   'thumbnail': 'https://lh5.googleusercontent.com/p/AF1QipPjQHde2dwcrHPkQnetUvBjcyL1Djz-I0wwykhk=w122-h92-k-no'},\n",
              "  {'position': 20,\n",
              "   'title': \"Lazzara's Pizza Cafe\",\n",
              "   'place_id': 'ChIJASwLqU9ZwokRAoIgy6k2RgY',\n",
              "   'data_id': '0x89c2594fa90b2c01:0x64636a9cb208202',\n",
              "   'data_cid': '452108915482591746',\n",
              "   'reviews_link': 'https://serpapi.com/search.json?data_id=0x89c2594fa90b2c01%3A0x64636a9cb208202&engine=google_maps_reviews&hl=en',\n",
              "   'photos_link': 'https://serpapi.com/search.json?data_id=0x89c2594fa90b2c01%3A0x64636a9cb208202&engine=google_maps_photos&hl=en',\n",
              "   'gps_coordinates': {'latitude': 40.754011999999996,\n",
              "    'longitude': -73.989521},\n",
              "   'place_id_search': 'https://serpapi.com/search.json?data=%214m5%213m4%211s0x89c2594fa90b2c01%3A0x64636a9cb208202%218m2%213d40.754011999999996%214d-73.989521&engine=google_maps&google_domain=google.com&hl=en&type=place',\n",
              "   'rating': 4.2,\n",
              "   'reviews': 555,\n",
              "   'price': '$$',\n",
              "   'type': 'Pizza restaurant',\n",
              "   'address': '221 W 38th St #2, New York, NY 10018',\n",
              "   'open_state': 'Closed ⋅ Opens 11:30AM',\n",
              "   'hours': 'Closed ⋅ Opens 11:30AM',\n",
              "   'operating_hours': {'monday': '11:30AM–4PM',\n",
              "    'tuesday': '11:30AM–9PM',\n",
              "    'wednesday': '11:30AM–9PM',\n",
              "    'thursday': '11:30AM–9PM',\n",
              "    'friday': '11:30AM–9PM',\n",
              "    'saturday': '12–10PM',\n",
              "    'sunday': 'Closed'},\n",
              "   'phone': '(212) 944-7792',\n",
              "   'website': 'http://lazzaraspizza.com/',\n",
              "   'description': 'Square thin-crust pies & Italian eats. Square thin-crust pies & Italian standards are offered in a basic, second-floor location.',\n",
              "   'service_options': {'dine_in': True,\n",
              "    'takeout': True,\n",
              "    'no_contact_delivery': True},\n",
              "   'thumbnail': 'https://lh5.googleusercontent.com/p/AF1QipMEie5rkqW5TC-Ydqp_6knVlnA9iJOUTGtSZ48_=w92-h92-k-no'}],\n",
              " 'serpapi_pagination': {'next': 'https://serpapi.com/search.json?engine=google_maps&google_domain=google.com&hl=en&ll=%4040.7455096%2C-74.0083012%2C15.1z&q=pizza&start=20&type=search'}}"
            ]
          },
          "metadata": {},
          "execution_count": 11
        }
      ]
    },
    {
      "cell_type": "code",
      "source": [
        "from serpapi import GoogleSearch\n",
        "\n",
        "params = {\n",
        "  \"engine\": \"google_maps_reviews\",\n",
        "  \"data_id\": \"0x89c259d832e6d73b:0x91dc3f742c74509e\",\n",
        "  \"api_key\": \"92453dc1693c746d7c220b59083e2b163ae3c4ec49b37b17095b4441aada11c5\"\n",
        "}\n",
        "\n",
        "search = GoogleSearch(params)\n",
        "results = search.get_dict()\n",
        "reviews = results[\"reviews\"]"
      ],
      "metadata": {
        "id": "a05Ue0tmoY93"
      },
      "execution_count": null,
      "outputs": []
    },
    {
      "cell_type": "code",
      "source": [
        "for i in range(10):\n",
        "  rating = results[\"reviews\"][i][\"rating\"]\n",
        "  print(rating)\n",
        "  reviews = results[\"reviews\"][i][\"snippet\"]\n",
        "  print(reviews)"
      ],
      "metadata": {
        "id": "newK-ILBotpX"
      },
      "execution_count": null,
      "outputs": []
    },
    {
      "cell_type": "code",
      "source": [
        "from serpapi import GoogleSearch\n",
        "\n",
        "params = {\n",
        "  \"engine\": \"google_maps\",\n",
        "  \"q\": \"fried Chicken\",\n",
        "  \"ll\": \"@40.7455096,-74.0083012,15.1z\",\n",
        "  \"type\": \"search\",\n",
        "  \"api_key\": \"92453dc1693c746d7c220b59083e2b163ae3c4ec49b37b17095b4441aada11c5\"\n",
        "}\n",
        "\n",
        "search = GoogleSearch(params)\n",
        "results = search.get_dict()\n",
        "local_results = results[\"local_results\"]"
      ],
      "metadata": {
        "colab": {
          "base_uri": "https://localhost:8080/"
        },
        "id": "NwBWl96gox9x",
        "outputId": "d0f9f1be-769f-4800-973d-e1b47618a49d"
      },
      "execution_count": 12,
      "outputs": [
        {
          "output_type": "stream",
          "name": "stdout",
          "text": [
            "https://serpapi.com/search\n"
          ]
        }
      ]
    },
    {
      "cell_type": "code",
      "source": [
        "results"
      ],
      "metadata": {
        "id": "GQZhtznkprHC"
      },
      "execution_count": null,
      "outputs": []
    },
    {
      "cell_type": "code",
      "source": [
        "from serpapi import GoogleSearch\n",
        "\n",
        "params = {\n",
        "  \"engine\": \"google_maps_reviews\",\n",
        "  \"data_id\": \"0x89c25955d960d489:0x4aa2bff74ce6713e\",\n",
        "  \"api_key\": \"92453dc1693c746d7c220b59083e2b163ae3c4ec49b37b17095b4441aada11c5\"\n",
        "}\n",
        "\n",
        "search = GoogleSearch(params)\n",
        "results = search.get_dict()\n",
        "reviews = results[\"reviews\"]"
      ],
      "metadata": {
        "colab": {
          "base_uri": "https://localhost:8080/"
        },
        "id": "dt5dMvtIp2tZ",
        "outputId": "c23b5bf2-11de-4703-854f-4ba9bc48aaf0"
      },
      "execution_count": 14,
      "outputs": [
        {
          "output_type": "stream",
          "name": "stdout",
          "text": [
            "https://serpapi.com/search\n"
          ]
        }
      ]
    },
    {
      "cell_type": "code",
      "source": [
        "for i in range(10):\n",
        "  rating = results[\"reviews\"][i][\"rating\"]\n",
        "  print(rating)\n",
        "  reviews = results[\"reviews\"][i][\"snippet\"]\n",
        "  print(reviews)"
      ],
      "metadata": {
        "id": "cMjhWS22qKJb"
      },
      "execution_count": null,
      "outputs": []
    },
    {
      "cell_type": "code",
      "source": [
        "from serpapi import GoogleSearch\n",
        "\n",
        "params = {\n",
        "  \"engine\": \"google_maps\",\n",
        "  \"q\": \"Donuts\",\n",
        "  \"ll\": \"@40.7455096,-74.0083012,15.1z\",\n",
        "  \"type\": \"search\",\n",
        "  \"api_key\": \"92453dc1693c746d7c220b59083e2b163ae3c4ec49b37b17095b4441aada11c5\"\n",
        "}\n",
        "\n",
        "search = GoogleSearch(params)\n",
        "results = search.get_dict()\n",
        "local_results = results[\"local_results\"]"
      ],
      "metadata": {
        "colab": {
          "base_uri": "https://localhost:8080/"
        },
        "id": "433wqf0bqVBp",
        "outputId": "08586fc7-63d8-4545-9943-255831b1ae4a"
      },
      "execution_count": 18,
      "outputs": [
        {
          "output_type": "stream",
          "name": "stdout",
          "text": [
            "https://serpapi.com/search\n"
          ]
        }
      ]
    },
    {
      "cell_type": "code",
      "source": [
        "results"
      ],
      "metadata": {
        "id": "dBok8xuuqw_7"
      },
      "execution_count": null,
      "outputs": []
    },
    {
      "cell_type": "code",
      "source": [
        "from serpapi import GoogleSearch\n",
        "\n",
        "params = {\n",
        "  \"engine\": \"google_maps_reviews\",\n",
        "  \"data_id\": \"0x89c25930afe59445:0xcd38c963730f8400\",\n",
        "  \"api_key\": \"92453dc1693c746d7c220b59083e2b163ae3c4ec49b37b17095b4441aada11c5\"\n",
        "}\n",
        "\n",
        "search = GoogleSearch(params)\n",
        "results = search.get_dict()\n",
        "reviews = results[\"reviews\"]"
      ],
      "metadata": {
        "id": "jXtzN3Xgq7sC"
      },
      "execution_count": null,
      "outputs": []
    },
    {
      "cell_type": "code",
      "source": [
        "for i in range(10):\n",
        "  rating = results[\"reviews\"][i][\"rating\"]\n",
        "  print(rating)\n",
        "  reviews = results[\"reviews\"][i][\"snippet\"]\n",
        "  print(reviews)"
      ],
      "metadata": {
        "id": "V8ETEb_xreoQ"
      },
      "execution_count": null,
      "outputs": []
    },
    {
      "cell_type": "code",
      "source": [
        "from serpapi import GoogleSearch\n",
        "\n",
        "params = {\n",
        "  \"engine\": \"google_maps\",\n",
        "  \"q\": \"Ramen\",\n",
        "  \"ll\": \"@40.7455096,-74.0083012,15.1z\",\n",
        "  \"type\": \"search\",\n",
        "  \"api_key\": \"92453dc1693c746d7c220b59083e2b163ae3c4ec49b37b17095b4441aada11c5\"\n",
        "}\n",
        "\n",
        "search = GoogleSearch(params)\n",
        "results = search.get_dict()\n",
        "local_results = results[\"local_results\"]"
      ],
      "metadata": {
        "colab": {
          "base_uri": "https://localhost:8080/"
        },
        "id": "--SChOausM67",
        "outputId": "0597a910-197e-4d17-daea-698d512a042c"
      },
      "execution_count": 20,
      "outputs": [
        {
          "output_type": "stream",
          "name": "stdout",
          "text": [
            "https://serpapi.com/search\n"
          ]
        }
      ]
    },
    {
      "cell_type": "code",
      "source": [
        "results"
      ],
      "metadata": {
        "id": "FL02jimCsYi0"
      },
      "execution_count": null,
      "outputs": []
    },
    {
      "cell_type": "code",
      "source": [
        "from serpapi import GoogleSearch\n",
        "\n",
        "params = {\n",
        "  \"engine\": \"google_maps_reviews\",\n",
        "  \"data_id\": \"0x89c259f7e09cab87:0xbcf8716a686adaa\",\n",
        "  \"api_key\": \"92453dc1693c746d7c220b59083e2b163ae3c4ec49b37b17095b4441aada11c5\"\n",
        "}\n",
        "\n",
        "search = GoogleSearch(params)\n",
        "results = search.get_dict()\n",
        "reviews = results[\"reviews\"]"
      ],
      "metadata": {
        "colab": {
          "base_uri": "https://localhost:8080/"
        },
        "id": "AHMucinOs0s2",
        "outputId": "b02cca85-136d-466e-fcb8-374f9fcba1e1"
      },
      "execution_count": 22,
      "outputs": [
        {
          "output_type": "stream",
          "name": "stdout",
          "text": [
            "https://serpapi.com/search\n"
          ]
        }
      ]
    },
    {
      "cell_type": "code",
      "source": [
        "for i in range(10):\n",
        "  rating = results[\"reviews\"][i][\"rating\"]\n",
        "  print(rating)\n",
        "  reviews = results[\"reviews\"][i][\"snippet\"]\n",
        "  print(reviews)"
      ],
      "metadata": {
        "id": "rmC9MZAjtCzc"
      },
      "execution_count": null,
      "outputs": []
    },
    {
      "cell_type": "code",
      "source": [
        "from serpapi import GoogleSearch\n",
        "\n",
        "params = {\n",
        "  \"engine\": \"google_maps\",\n",
        "  \"q\": \"Egg Rice\",\n",
        "  \"ll\": \"@40.7455096,-74.0083012,15.1z\",\n",
        "  \"type\": \"search\",\n",
        "  \"api_key\": \"92453dc1693c746d7c220b59083e2b163ae3c4ec49b37b17095b4441aada11c5\"\n",
        "}\n",
        "\n",
        "search = GoogleSearch(params)\n",
        "results = search.get_dict()\n",
        "local_results = results[\"local_results\"]"
      ],
      "metadata": {
        "colab": {
          "base_uri": "https://localhost:8080/"
        },
        "id": "NXDK9aL3tOFQ",
        "outputId": "662a976d-52d3-4935-fa5d-55eda4d8dc8c"
      },
      "execution_count": 24,
      "outputs": [
        {
          "output_type": "stream",
          "name": "stdout",
          "text": [
            "https://serpapi.com/search\n"
          ]
        }
      ]
    },
    {
      "cell_type": "code",
      "source": [
        "results"
      ],
      "metadata": {
        "id": "isy3OrrEthps"
      },
      "execution_count": null,
      "outputs": []
    },
    {
      "cell_type": "code",
      "source": [
        "from serpapi import GoogleSearch\n",
        "\n",
        "params = {\n",
        "  \"engine\": \"google_maps_reviews\",\n",
        "  \"data_id\": \"0x89c25912cd158789:0xad261e4f142a0f7f\",\n",
        "  \"api_key\": \"92453dc1693c746d7c220b59083e2b163ae3c4ec49b37b17095b4441aada11c5\"\n",
        "}\n",
        "\n",
        "search = GoogleSearch(params)\n",
        "results = search.get_dict()\n",
        "reviews = results[\"reviews\"]"
      ],
      "metadata": {
        "colab": {
          "base_uri": "https://localhost:8080/"
        },
        "id": "nc7c7nTZttVn",
        "outputId": "436ed997-b4ee-43a8-ebd8-dc975c8240eb"
      },
      "execution_count": 26,
      "outputs": [
        {
          "output_type": "stream",
          "name": "stdout",
          "text": [
            "https://serpapi.com/search\n"
          ]
        }
      ]
    },
    {
      "cell_type": "code",
      "source": [
        "for i in range(10):\n",
        "  rating = results[\"reviews\"][i][\"rating\"]\n",
        "  print(rating)\n",
        "  reviews = results[\"reviews\"][i][\"snippet\"]\n",
        "  print(reviews)"
      ],
      "metadata": {
        "id": "g3cOP_lGuByE"
      },
      "execution_count": null,
      "outputs": []
    },
    {
      "cell_type": "code",
      "source": [
        "from serpapi import GoogleSearch\n",
        "\n",
        "params = {\n",
        "  \"engine\": \"google_maps\",\n",
        "  \"q\": \"Fried Chicken\",\n",
        "  \"ll\": \"@40.7455096,-74.0083012,15.1z\",\n",
        "  \"type\": \"search\",\n",
        "  \"api_key\": \"92453dc1693c746d7c220b59083e2b163ae3c4ec49b37b17095b4441aada11c5\"\n",
        "}\n",
        "\n",
        "search = GoogleSearch(params)\n",
        "results = search.get_dict()\n",
        "local_results = results[\"local_results\"]"
      ],
      "metadata": {
        "colab": {
          "base_uri": "https://localhost:8080/"
        },
        "id": "O-njle1xuHox",
        "outputId": "618805e9-4f1f-4c3d-b80f-ba2014e9b3dd"
      },
      "execution_count": 28,
      "outputs": [
        {
          "output_type": "stream",
          "name": "stdout",
          "text": [
            "https://serpapi.com/search\n"
          ]
        }
      ]
    },
    {
      "cell_type": "code",
      "source": [
        "results"
      ],
      "metadata": {
        "id": "8fwmfrGquW4K"
      },
      "execution_count": null,
      "outputs": []
    },
    {
      "cell_type": "code",
      "source": [
        "from serpapi import GoogleSearch\n",
        "\n",
        "params = {\n",
        "  \"engine\": \"google_maps_reviews\",\n",
        "  \"data_id\": \"0x89c2585255855a33:0xa400d6170d205a97\",\n",
        "  \"api_key\": \"92453dc1693c746d7c220b59083e2b163ae3c4ec49b37b17095b4441aada11c5\"\n",
        "}\n",
        "\n",
        "search = GoogleSearch(params)\n",
        "results = search.get_dict()\n",
        "reviews = results[\"reviews\"]"
      ],
      "metadata": {
        "colab": {
          "base_uri": "https://localhost:8080/"
        },
        "id": "G1PjZSl4ufPn",
        "outputId": "1566c3ee-df1a-4da0-e8b7-f1f9e854c25e"
      },
      "execution_count": 30,
      "outputs": [
        {
          "output_type": "stream",
          "name": "stdout",
          "text": [
            "https://serpapi.com/search\n"
          ]
        }
      ]
    },
    {
      "cell_type": "code",
      "source": [
        "for i in range(10):\n",
        "  rating = results[\"reviews\"][i][\"rating\"]\n",
        "  print(rating)\n",
        "  reviews = results[\"reviews\"][i][\"snippet\"]\n",
        "  print(reviews)"
      ],
      "metadata": {
        "id": "nvWq9tOUut0s"
      },
      "execution_count": null,
      "outputs": []
    },
    {
      "cell_type": "code",
      "source": [
        "from serpapi import GoogleSearch\n",
        "\n",
        "params = {\n",
        "  \"engine\": \"google_maps\",\n",
        "  \"q\": \"Lemon Tea\",\n",
        "  \"ll\": \"@40.7455096,-74.0083012,15.1z\",\n",
        "  \"type\": \"search\",\n",
        "  \"api_key\": \"92453dc1693c746d7c220b59083e2b163ae3c4ec49b37b17095b4441aada11c5\"\n",
        "}\n",
        "\n",
        "search = GoogleSearch(params)\n",
        "results = search.get_dict()\n",
        "local_results = results[\"local_results\"]"
      ],
      "metadata": {
        "colab": {
          "base_uri": "https://localhost:8080/"
        },
        "id": "LKayDuXHu07Z",
        "outputId": "2d35638e-c328-4bf9-9c3b-234290ae420e"
      },
      "execution_count": 33,
      "outputs": [
        {
          "output_type": "stream",
          "name": "stdout",
          "text": [
            "https://serpapi.com/search\n"
          ]
        }
      ]
    },
    {
      "cell_type": "code",
      "source": [
        "results"
      ],
      "metadata": {
        "id": "IqCCoseAvd3j"
      },
      "execution_count": null,
      "outputs": []
    },
    {
      "cell_type": "code",
      "source": [
        "from serpapi import GoogleSearch\n",
        "\n",
        "params = {\n",
        "  \"engine\": \"google_maps_reviews\",\n",
        "  \"data_id\": \"0x89c259e54c8e35d7:0x42e0db410c00abe7\",\n",
        "  \"api_key\": \"92453dc1693c746d7c220b59083e2b163ae3c4ec49b37b17095b4441aada11c5\"\n",
        "}\n",
        "\n",
        "search = GoogleSearch(params)\n",
        "results = search.get_dict()\n",
        "reviews = results[\"reviews\"]"
      ],
      "metadata": {
        "colab": {
          "base_uri": "https://localhost:8080/"
        },
        "id": "CPa5mAgHvvQY",
        "outputId": "43e6c4f0-550a-419c-ce63-587bf0062df2"
      },
      "execution_count": 36,
      "outputs": [
        {
          "output_type": "stream",
          "name": "stdout",
          "text": [
            "https://serpapi.com/search\n"
          ]
        }
      ]
    },
    {
      "cell_type": "code",
      "source": [
        "for i in range(10):\n",
        "  rating = results[\"reviews\"][i][\"rating\"]\n",
        "  print(rating)\n",
        "  reviews = results[\"reviews\"][i][\"snippet\"]\n",
        "  print(reviews)"
      ],
      "metadata": {
        "id": "gkWHzi2PwD1b"
      },
      "execution_count": null,
      "outputs": []
    },
    {
      "cell_type": "code",
      "source": [
        "from serpapi import GoogleSearch\n",
        "\n",
        "params = {\n",
        "  \"engine\": \"google_maps\",\n",
        "  \"q\": \"choco milk\",\n",
        "  \"ll\": \"@40.7455096,-74.0083012,15.1z\",\n",
        "  \"type\": \"search\",\n",
        "  \"api_key\": \"92453dc1693c746d7c220b59083e2b163ae3c4ec49b37b17095b4441aada11c5\"\n",
        "}\n",
        "\n",
        "search = GoogleSearch(params)\n",
        "results = search.get_dict()\n",
        "local_results = results[\"local_results\"]"
      ],
      "metadata": {
        "colab": {
          "base_uri": "https://localhost:8080/"
        },
        "id": "57UCVZIbwTTf",
        "outputId": "70c61e3e-1ce0-4a80-b799-c0a99decf2a2"
      },
      "execution_count": 38,
      "outputs": [
        {
          "output_type": "stream",
          "name": "stdout",
          "text": [
            "https://serpapi.com/search\n"
          ]
        }
      ]
    },
    {
      "cell_type": "code",
      "source": [
        "results"
      ],
      "metadata": {
        "id": "fBj3YbpdweQm"
      },
      "execution_count": null,
      "outputs": []
    },
    {
      "cell_type": "code",
      "source": [
        "from serpapi import GoogleSearch\n",
        "\n",
        "params = {\n",
        "  \"engine\": \"google_maps_reviews\",\n",
        "  \"data_id\": \"0x89c25854e2b0acdb:0x22dd4352be65bea0\",\n",
        "  \"api_key\": \"92453dc1693c746d7c220b59083e2b163ae3c4ec49b37b17095b4441aada11c5\"\n",
        "}\n",
        "\n",
        "search = GoogleSearch(params)\n",
        "results = search.get_dict()\n",
        "reviews = results[\"reviews\"]"
      ],
      "metadata": {
        "colab": {
          "base_uri": "https://localhost:8080/"
        },
        "id": "qPaDe8GNw7Vv",
        "outputId": "6b75c0df-484a-4bdf-e1b1-6b2e92474127"
      },
      "execution_count": 40,
      "outputs": [
        {
          "output_type": "stream",
          "name": "stdout",
          "text": [
            "https://serpapi.com/search\n"
          ]
        }
      ]
    },
    {
      "cell_type": "code",
      "source": [
        "for i in range(10):\n",
        "  rating = results[\"reviews\"][i][\"rating\"]\n",
        "  print(rating)\n",
        "  reviews = results[\"reviews\"][i][\"snippet\"]\n",
        "  print(reviews)"
      ],
      "metadata": {
        "id": "9G8zYA6axAzI"
      },
      "execution_count": null,
      "outputs": []
    },
    {
      "cell_type": "code",
      "source": [
        "from serpapi import GoogleSearch\n",
        "\n",
        "params = {\n",
        "  \"engine\": \"google_maps\",\n",
        "  \"q\": \"chicken wings\",\n",
        "  \"ll\": \"@40.7455096,-74.0083012,15.1z\",\n",
        "  \"type\": \"search\",\n",
        "  \"api_key\": \"92453dc1693c746d7c220b59083e2b163ae3c4ec49b37b17095b4441aada11c5\"\n",
        "}\n",
        "\n",
        "search = GoogleSearch(params)\n",
        "results = search.get_dict()\n",
        "local_results = results[\"local_results\"]"
      ],
      "metadata": {
        "colab": {
          "base_uri": "https://localhost:8080/"
        },
        "id": "hFsj188xxIh_",
        "outputId": "5f6e39c7-9889-4c5d-d0ce-fe49b6cd5b2f"
      },
      "execution_count": 42,
      "outputs": [
        {
          "output_type": "stream",
          "name": "stdout",
          "text": [
            "https://serpapi.com/search\n"
          ]
        }
      ]
    },
    {
      "cell_type": "code",
      "source": [
        "results"
      ],
      "metadata": {
        "id": "deacApE2xloN"
      },
      "execution_count": null,
      "outputs": []
    },
    {
      "cell_type": "code",
      "source": [
        "from serpapi import GoogleSearch\n",
        "\n",
        "params = {\n",
        "  \"engine\": \"google_maps_reviews\",\n",
        "  \"data_id\": \"0x89c25967d0d500ad:0x7f702db885d3a994\",\n",
        "  \"api_key\": \"92453dc1693c746d7c220b59083e2b163ae3c4ec49b37b17095b4441aada11c5\"\n",
        "}\n",
        "\n",
        "search = GoogleSearch(params)\n",
        "results = search.get_dict()\n",
        "reviews = results[\"reviews\"]"
      ],
      "metadata": {
        "colab": {
          "base_uri": "https://localhost:8080/"
        },
        "id": "7sl29k3Xx-_M",
        "outputId": "748414f1-2a9f-4f75-8577-8511d5a6e0ad"
      },
      "execution_count": 44,
      "outputs": [
        {
          "output_type": "stream",
          "name": "stdout",
          "text": [
            "https://serpapi.com/search\n"
          ]
        }
      ]
    },
    {
      "cell_type": "code",
      "source": [
        "for i in range(10):\n",
        "  rating = results[\"reviews\"][i][\"rating\"]\n",
        "  print(rating)\n",
        "  reviews = results[\"reviews\"][i][\"snippet\"]\n",
        "  print(reviews)"
      ],
      "metadata": {
        "id": "mSOFpe8EyKy8"
      },
      "execution_count": null,
      "outputs": []
    },
    {
      "cell_type": "code",
      "source": [
        "from serpapi import GoogleSearch\n",
        "\n",
        "params = {\n",
        "  \"engine\": \"google_maps\",\n",
        "  \"q\": \"milk tea\",\n",
        "  \"ll\": \"@40.7455096,-74.0083012,15.1z\",\n",
        "  \"type\": \"search\",\n",
        "  \"api_key\": \"92453dc1693c746d7c220b59083e2b163ae3c4ec49b37b17095b4441aada11c5\"\n",
        "}\n",
        "\n",
        "search = GoogleSearch(params)\n",
        "results = search.get_dict()\n",
        "local_results = results[\"local_results\"]"
      ],
      "metadata": {
        "colab": {
          "base_uri": "https://localhost:8080/"
        },
        "id": "wTn2vmO5yROn",
        "outputId": "47188fa9-b590-4ae5-8d9c-9f80780ff18b"
      },
      "execution_count": 46,
      "outputs": [
        {
          "output_type": "stream",
          "name": "stdout",
          "text": [
            "https://serpapi.com/search\n"
          ]
        }
      ]
    },
    {
      "cell_type": "code",
      "source": [
        "results"
      ],
      "metadata": {
        "id": "QGcXWxWEyYLZ"
      },
      "execution_count": null,
      "outputs": []
    },
    {
      "cell_type": "code",
      "source": [
        "from serpapi import GoogleSearch\n",
        "\n",
        "params = {\n",
        "  \"engine\": \"google_maps_reviews\",\n",
        "  \"data_id\": \"0x89c259bbb521653d:0x606e3be83a2a4945\",\n",
        "  \"api_key\": \"92453dc1693c746d7c220b59083e2b163ae3c4ec49b37b17095b4441aada11c5\"\n",
        "}\n",
        "\n",
        "search = GoogleSearch(params)\n",
        "results = search.get_dict()\n",
        "reviews = results[\"reviews\"]"
      ],
      "metadata": {
        "colab": {
          "base_uri": "https://localhost:8080/"
        },
        "id": "AQiqV-xsydXx",
        "outputId": "66dba1c8-e855-47fa-fd73-360a8402999b"
      },
      "execution_count": 48,
      "outputs": [
        {
          "output_type": "stream",
          "name": "stdout",
          "text": [
            "https://serpapi.com/search\n"
          ]
        }
      ]
    },
    {
      "cell_type": "code",
      "source": [
        "for i in range(10):\n",
        "  rating = results[\"reviews\"][i][\"rating\"]\n",
        "  print(rating)\n",
        "  reviews = results[\"reviews\"][i][\"snippet\"]\n",
        "  print(reviews)"
      ],
      "metadata": {
        "colab": {
          "base_uri": "https://localhost:8080/"
        },
        "id": "n1H_6kirypFi",
        "outputId": "6d130982-098c-486a-dce0-0afd1794b960"
      },
      "execution_count": 49,
      "outputs": [
        {
          "output_type": "stream",
          "name": "stdout",
          "text": [
            "4.0\n",
            "This hole in the wall spot offers freshly made smoothies with sharp flavors. I ordered the mango guava and despite never tasting guava before i found it to be the perfect pick me up for a morning of long walking through over priced flea markets. The flavors stayed fresh while avoiding being too acidic, while simultaneously avoiding being too milky. I highly recommend this spot for anyone passing through Chelsea NY.\n",
            "5.0\n",
            "The best açaí bowl. Perfect for a refreshing lunch or breakfast on a hot day! I’ve also tried their almond bubble tea which is addictive. Friendly service.\n",
            "5.0\n",
            "Delicious. Best green smoothie I've had in years. Small business and they felt like a safe covid preventative environment. Keep them open, go get some.\n",
            "5.0\n",
            "Great selection of healthy juices and acai bowls. This location is perfect for people watching. Service and quality of food here is very high. Small waiting area and short drink making time. Highly recommend this spotn\n",
            "5.0\n",
            "Great acai bowls! I get the peanut butter acai bowl with the peanut butter blended in, instead of on top. Delicious fresh fruit. They have a bar facing the window to eat at, there are about 4 seats. Reasonably priced. There is a $7 dollar card minimum, but they have an ATM if you need cash.\n",
            "5.0\n",
            "Hawa is the best place in Chelsea to get a fresh smoothie or açaí bowl! They are so delicious and I am a regular customer. The Passion Green smoothie is my favorite. Also the ginger shot and pineapple chuck is a classic and my go to before the smoothie. I suggest calling ahead! It never hurts. Sometimes you will get there and it’s ready to go with not many people and other times they could be swamped with many people in the store waiting to order. It’s nice to just walk-in, pay and your items be ready. They do keep them cold in a fridge if you are walking over and it’s ready to go. Give them a try!!\n",
            "5.0\n",
            "Came here for breakfast and the acai bowl was amazing! Everything tasted fresh and delicious. The staff were very friendly and I will definitely be back soon.\n",
            "4.0\n",
            "Not sure about the smoothies, but the açaí bowl was a bit small and lack of interest. Got some hard bananas and sour blueberries, also quite icy...\n",
            "5.0\n",
            "I love their bubble tea. I always go here all the way from 35th street if i’m craving for bubble tea. Prices are affordable too and not too pricey given it’s a Manhattan location.\n",
            "5.0\n",
            "Best place in the area to get a fresh açai bowl. The portion is pretty big and very well-packed with fruits and crunchy granola. The açai itself is sweet and creamy.\n"
          ]
        }
      ]
    }
  ]
}